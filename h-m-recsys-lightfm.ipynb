{
 "cells": [
  {
   "cell_type": "code",
   "execution_count": 1,
   "id": "c4d2b753",
   "metadata": {
    "_cell_guid": "b1076dfc-b9ad-4769-8c92-a6c4dae69d19",
    "_uuid": "8f2839f25d086af736a60e9eeb907d3b93b6e0e5",
    "execution": {
     "iopub.execute_input": "2022-06-29T12:20:21.773650Z",
     "iopub.status.busy": "2022-06-29T12:20:21.772997Z",
     "iopub.status.idle": "2022-06-29T12:20:23.172713Z",
     "shell.execute_reply": "2022-06-29T12:20:23.171334Z"
    },
    "papermill": {
     "duration": 1.415382,
     "end_time": "2022-06-29T12:20:23.175540",
     "exception": false,
     "start_time": "2022-06-29T12:20:21.760158",
     "status": "completed"
    },
    "tags": []
   },
   "outputs": [],
   "source": [
    "import numpy as np # linear algebra\n",
    "import pandas as pd # data processing, CSV file I/O (e.g. pd.read_csv)\n",
    "import matplotlib.pyplot as plt # for plotting the data \n",
    "import seaborn as sns # Advanced data plotting on top of matplotlib\n",
    "import os\n",
    "\n",
    "\n",
    "from sklearn.model_selection import train_test_split\n",
    "from sklearn.metrics import mean_squared_error\n",
    "from sklearn.metrics import classification_report\n",
    "from sklearn.metrics import f1_score\n",
    "from sklearn.metrics import accuracy_score"
   ]
  },
  {
   "cell_type": "code",
   "execution_count": 2,
   "id": "45009361",
   "metadata": {
    "execution": {
     "iopub.execute_input": "2022-06-29T12:20:23.199583Z",
     "iopub.status.busy": "2022-06-29T12:20:23.198798Z",
     "iopub.status.idle": "2022-06-29T12:20:23.204449Z",
     "shell.execute_reply": "2022-06-29T12:20:23.203548Z"
    },
    "papermill": {
     "duration": 0.019843,
     "end_time": "2022-06-29T12:20:23.207234",
     "exception": false,
     "start_time": "2022-06-29T12:20:23.187391",
     "status": "completed"
    },
    "tags": []
   },
   "outputs": [],
   "source": [
    "#for dirname, _, filenames in os.walk('/kaggle/input'):\n",
    "#    for filename in filenames:\n",
    "#        print(os.path.join(dirname, filename))\n",
    "#/kaggle/input/h-and-m-personalized-fashion-recommendations/sample_submission.csv\n",
    "#/kaggle/input/h-and-m-personalized-fashion-recommendations/articles.csv\n",
    "#/kaggle/input/h-and-m-personalized-fashion-recommendations/transactions_train.csv\n",
    "#/kaggle/input/h-and-m-personalized-fashion-recommendations/customers.csv    "
   ]
  },
  {
   "cell_type": "markdown",
   "id": "56e5f8a5",
   "metadata": {
    "papermill": {
     "duration": 0.009226,
     "end_time": "2022-06-29T12:20:23.227224",
     "exception": false,
     "start_time": "2022-06-29T12:20:23.217998",
     "status": "completed"
    },
    "tags": []
   },
   "source": [
    "**About data**\n",
    "\n",
    "*images* - a folder of images corresponding to each article_id; images are placed in subfolders starting with the first three digits of the article_id; note, not all article_id values have a corresponding image.\n",
    "\n",
    "*articles.csv* - detailed metadata for each article_id available for purchase\n",
    "\n",
    "*customers.csv* - metadata for each customer_id in dataset\n",
    "\n",
    "*sample_submission.csv* - a sample submission file in the correct format\n",
    "\n",
    "*transactions_train.csv* - the training data, consisting of the purchases each customer for each date, as well as additional information. Duplicate rows correspond to multiple purchases of the same item. Your task is to predict the article_ids each customer will purchase during the 7-day period immediately after the training data period.\n",
    "\n",
    "*target*: Make predictions for all customer_id values found in the sample submission. All customers who made purchases during the test period are scored, regardless of whether they had purchase history in the training data.\n",
    "\n",
    "Submissions are evaluated according to the Mean Average Precision @ 12 (MAP@12).\n",
    "For each customer_id observed in the training data, you may predict up to 12 labels for the article_id, which is the predicted items a customer will buy in the next 7-day period after the training time period. "
   ]
  },
  {
   "cell_type": "markdown",
   "id": "f0d7f231",
   "metadata": {
    "papermill": {
     "duration": 0.009426,
     "end_time": "2022-06-29T12:20:23.246830",
     "exception": false,
     "start_time": "2022-06-29T12:20:23.237404",
     "status": "completed"
    },
    "tags": []
   },
   "source": [
    "# EDA"
   ]
  },
  {
   "cell_type": "code",
   "execution_count": 3,
   "id": "0da9ad18",
   "metadata": {
    "execution": {
     "iopub.execute_input": "2022-06-29T12:20:23.267495Z",
     "iopub.status.busy": "2022-06-29T12:20:23.267138Z",
     "iopub.status.idle": "2022-06-29T12:20:23.271547Z",
     "shell.execute_reply": "2022-06-29T12:20:23.270293Z"
    },
    "papermill": {
     "duration": 0.017599,
     "end_time": "2022-06-29T12:20:23.274095",
     "exception": false,
     "start_time": "2022-06-29T12:20:23.256496",
     "status": "completed"
    },
    "tags": []
   },
   "outputs": [],
   "source": [
    "#customers_df = pd.read_csv(\"/kaggle/input/h-and-m-personalized-fashion-recommendations/customers.csv\")\n",
    "#sample_submission = pd.read_csv(\"/kaggle/input/h-and-m-personalized-fashion-recommendations/sample_submission.csv\" )\n",
    "#customers_df.head()"
   ]
  },
  {
   "cell_type": "code",
   "execution_count": 4,
   "id": "67d599fc",
   "metadata": {
    "execution": {
     "iopub.execute_input": "2022-06-29T12:20:23.295189Z",
     "iopub.status.busy": "2022-06-29T12:20:23.294580Z",
     "iopub.status.idle": "2022-06-29T12:21:30.010501Z",
     "shell.execute_reply": "2022-06-29T12:21:30.009258Z"
    },
    "papermill": {
     "duration": 66.740912,
     "end_time": "2022-06-29T12:21:30.024488",
     "exception": false,
     "start_time": "2022-06-29T12:20:23.283576",
     "status": "completed"
    },
    "tags": []
   },
   "outputs": [
    {
     "name": "stdout",
     "output_type": "stream",
     "text": [
      "(31788324, 5)\n"
     ]
    },
    {
     "data": {
      "text/html": [
       "<div>\n",
       "<style scoped>\n",
       "    .dataframe tbody tr th:only-of-type {\n",
       "        vertical-align: middle;\n",
       "    }\n",
       "\n",
       "    .dataframe tbody tr th {\n",
       "        vertical-align: top;\n",
       "    }\n",
       "\n",
       "    .dataframe thead th {\n",
       "        text-align: right;\n",
       "    }\n",
       "</style>\n",
       "<table border=\"1\" class=\"dataframe\">\n",
       "  <thead>\n",
       "    <tr style=\"text-align: right;\">\n",
       "      <th></th>\n",
       "      <th>t_dat</th>\n",
       "      <th>customer_id</th>\n",
       "      <th>article_id</th>\n",
       "      <th>price</th>\n",
       "      <th>sales_channel_id</th>\n",
       "    </tr>\n",
       "  </thead>\n",
       "  <tbody>\n",
       "    <tr>\n",
       "      <th>0</th>\n",
       "      <td>2018-09-20</td>\n",
       "      <td>000058a12d5b43e67d225668fa1f8d618c13dc232df0ca...</td>\n",
       "      <td>663713001</td>\n",
       "      <td>0.050831</td>\n",
       "      <td>2</td>\n",
       "    </tr>\n",
       "    <tr>\n",
       "      <th>1</th>\n",
       "      <td>2018-09-20</td>\n",
       "      <td>000058a12d5b43e67d225668fa1f8d618c13dc232df0ca...</td>\n",
       "      <td>541518023</td>\n",
       "      <td>0.030492</td>\n",
       "      <td>2</td>\n",
       "    </tr>\n",
       "    <tr>\n",
       "      <th>2</th>\n",
       "      <td>2018-09-20</td>\n",
       "      <td>00007d2de826758b65a93dd24ce629ed66842531df6699...</td>\n",
       "      <td>505221004</td>\n",
       "      <td>0.015237</td>\n",
       "      <td>2</td>\n",
       "    </tr>\n",
       "    <tr>\n",
       "      <th>3</th>\n",
       "      <td>2018-09-20</td>\n",
       "      <td>00007d2de826758b65a93dd24ce629ed66842531df6699...</td>\n",
       "      <td>685687003</td>\n",
       "      <td>0.016932</td>\n",
       "      <td>2</td>\n",
       "    </tr>\n",
       "    <tr>\n",
       "      <th>4</th>\n",
       "      <td>2018-09-20</td>\n",
       "      <td>00007d2de826758b65a93dd24ce629ed66842531df6699...</td>\n",
       "      <td>685687004</td>\n",
       "      <td>0.016932</td>\n",
       "      <td>2</td>\n",
       "    </tr>\n",
       "  </tbody>\n",
       "</table>\n",
       "</div>"
      ],
      "text/plain": [
       "        t_dat                                        customer_id  article_id  \\\n",
       "0  2018-09-20  000058a12d5b43e67d225668fa1f8d618c13dc232df0ca...   663713001   \n",
       "1  2018-09-20  000058a12d5b43e67d225668fa1f8d618c13dc232df0ca...   541518023   \n",
       "2  2018-09-20  00007d2de826758b65a93dd24ce629ed66842531df6699...   505221004   \n",
       "3  2018-09-20  00007d2de826758b65a93dd24ce629ed66842531df6699...   685687003   \n",
       "4  2018-09-20  00007d2de826758b65a93dd24ce629ed66842531df6699...   685687004   \n",
       "\n",
       "      price  sales_channel_id  \n",
       "0  0.050831                 2  \n",
       "1  0.030492                 2  \n",
       "2  0.015237                 2  \n",
       "3  0.016932                 2  \n",
       "4  0.016932                 2  "
      ]
     },
     "execution_count": 4,
     "metadata": {},
     "output_type": "execute_result"
    }
   ],
   "source": [
    "transactions_df = pd.read_csv(\"/kaggle/input/h-and-m-personalized-fashion-recommendations/transactions_train.csv\")#, nrow=10000)\n",
    "print(transactions_df.shape)\n",
    "transactions_df.head()"
   ]
  },
  {
   "cell_type": "code",
   "execution_count": 5,
   "id": "e85c69a4",
   "metadata": {
    "execution": {
     "iopub.execute_input": "2022-06-29T12:21:30.046290Z",
     "iopub.status.busy": "2022-06-29T12:21:30.045331Z",
     "iopub.status.idle": "2022-06-29T12:21:30.055399Z",
     "shell.execute_reply": "2022-06-29T12:21:30.054200Z"
    },
    "papermill": {
     "duration": 0.023553,
     "end_time": "2022-06-29T12:21:30.057877",
     "exception": false,
     "start_time": "2022-06-29T12:21:30.034324",
     "status": "completed"
    },
    "tags": []
   },
   "outputs": [
    {
     "data": {
      "text/plain": [
       "(100000, 5)"
      ]
     },
     "execution_count": 5,
     "metadata": {},
     "output_type": "execute_result"
    }
   ],
   "source": [
    "transactions_df_sample = transactions_df.iloc[:100000,:].copy()\n",
    "transactions_df_sample.shape"
   ]
  },
  {
   "cell_type": "code",
   "execution_count": 6,
   "id": "d8008f22",
   "metadata": {
    "execution": {
     "iopub.execute_input": "2022-06-29T12:21:30.080588Z",
     "iopub.status.busy": "2022-06-29T12:21:30.079403Z",
     "iopub.status.idle": "2022-06-29T12:21:31.140882Z",
     "shell.execute_reply": "2022-06-29T12:21:31.139759Z"
    },
    "papermill": {
     "duration": 1.075662,
     "end_time": "2022-06-29T12:21:31.143661",
     "exception": false,
     "start_time": "2022-06-29T12:21:30.067999",
     "status": "completed"
    },
    "tags": []
   },
   "outputs": [
    {
     "name": "stdout",
     "output_type": "stream",
     "text": [
      "(105542, 25)\n"
     ]
    },
    {
     "data": {
      "text/html": [
       "<div>\n",
       "<style scoped>\n",
       "    .dataframe tbody tr th:only-of-type {\n",
       "        vertical-align: middle;\n",
       "    }\n",
       "\n",
       "    .dataframe tbody tr th {\n",
       "        vertical-align: top;\n",
       "    }\n",
       "\n",
       "    .dataframe thead th {\n",
       "        text-align: right;\n",
       "    }\n",
       "</style>\n",
       "<table border=\"1\" class=\"dataframe\">\n",
       "  <thead>\n",
       "    <tr style=\"text-align: right;\">\n",
       "      <th></th>\n",
       "      <th>0</th>\n",
       "      <th>1</th>\n",
       "      <th>2</th>\n",
       "      <th>3</th>\n",
       "      <th>4</th>\n",
       "    </tr>\n",
       "  </thead>\n",
       "  <tbody>\n",
       "    <tr>\n",
       "      <th>article_id</th>\n",
       "      <td>108775015</td>\n",
       "      <td>108775044</td>\n",
       "      <td>108775051</td>\n",
       "      <td>110065001</td>\n",
       "      <td>110065002</td>\n",
       "    </tr>\n",
       "    <tr>\n",
       "      <th>product_code</th>\n",
       "      <td>108775</td>\n",
       "      <td>108775</td>\n",
       "      <td>108775</td>\n",
       "      <td>110065</td>\n",
       "      <td>110065</td>\n",
       "    </tr>\n",
       "    <tr>\n",
       "      <th>prod_name</th>\n",
       "      <td>Strap top</td>\n",
       "      <td>Strap top</td>\n",
       "      <td>Strap top (1)</td>\n",
       "      <td>OP T-shirt (Idro)</td>\n",
       "      <td>OP T-shirt (Idro)</td>\n",
       "    </tr>\n",
       "    <tr>\n",
       "      <th>product_type_no</th>\n",
       "      <td>253</td>\n",
       "      <td>253</td>\n",
       "      <td>253</td>\n",
       "      <td>306</td>\n",
       "      <td>306</td>\n",
       "    </tr>\n",
       "    <tr>\n",
       "      <th>product_type_name</th>\n",
       "      <td>Vest top</td>\n",
       "      <td>Vest top</td>\n",
       "      <td>Vest top</td>\n",
       "      <td>Bra</td>\n",
       "      <td>Bra</td>\n",
       "    </tr>\n",
       "    <tr>\n",
       "      <th>product_group_name</th>\n",
       "      <td>Garment Upper body</td>\n",
       "      <td>Garment Upper body</td>\n",
       "      <td>Garment Upper body</td>\n",
       "      <td>Underwear</td>\n",
       "      <td>Underwear</td>\n",
       "    </tr>\n",
       "    <tr>\n",
       "      <th>graphical_appearance_no</th>\n",
       "      <td>1010016</td>\n",
       "      <td>1010016</td>\n",
       "      <td>1010017</td>\n",
       "      <td>1010016</td>\n",
       "      <td>1010016</td>\n",
       "    </tr>\n",
       "    <tr>\n",
       "      <th>graphical_appearance_name</th>\n",
       "      <td>Solid</td>\n",
       "      <td>Solid</td>\n",
       "      <td>Stripe</td>\n",
       "      <td>Solid</td>\n",
       "      <td>Solid</td>\n",
       "    </tr>\n",
       "    <tr>\n",
       "      <th>colour_group_code</th>\n",
       "      <td>9</td>\n",
       "      <td>10</td>\n",
       "      <td>11</td>\n",
       "      <td>9</td>\n",
       "      <td>10</td>\n",
       "    </tr>\n",
       "    <tr>\n",
       "      <th>colour_group_name</th>\n",
       "      <td>Black</td>\n",
       "      <td>White</td>\n",
       "      <td>Off White</td>\n",
       "      <td>Black</td>\n",
       "      <td>White</td>\n",
       "    </tr>\n",
       "    <tr>\n",
       "      <th>perceived_colour_value_id</th>\n",
       "      <td>4</td>\n",
       "      <td>3</td>\n",
       "      <td>1</td>\n",
       "      <td>4</td>\n",
       "      <td>3</td>\n",
       "    </tr>\n",
       "    <tr>\n",
       "      <th>perceived_colour_value_name</th>\n",
       "      <td>Dark</td>\n",
       "      <td>Light</td>\n",
       "      <td>Dusty Light</td>\n",
       "      <td>Dark</td>\n",
       "      <td>Light</td>\n",
       "    </tr>\n",
       "    <tr>\n",
       "      <th>perceived_colour_master_id</th>\n",
       "      <td>5</td>\n",
       "      <td>9</td>\n",
       "      <td>9</td>\n",
       "      <td>5</td>\n",
       "      <td>9</td>\n",
       "    </tr>\n",
       "    <tr>\n",
       "      <th>perceived_colour_master_name</th>\n",
       "      <td>Black</td>\n",
       "      <td>White</td>\n",
       "      <td>White</td>\n",
       "      <td>Black</td>\n",
       "      <td>White</td>\n",
       "    </tr>\n",
       "    <tr>\n",
       "      <th>department_no</th>\n",
       "      <td>1676</td>\n",
       "      <td>1676</td>\n",
       "      <td>1676</td>\n",
       "      <td>1339</td>\n",
       "      <td>1339</td>\n",
       "    </tr>\n",
       "    <tr>\n",
       "      <th>department_name</th>\n",
       "      <td>Jersey Basic</td>\n",
       "      <td>Jersey Basic</td>\n",
       "      <td>Jersey Basic</td>\n",
       "      <td>Clean Lingerie</td>\n",
       "      <td>Clean Lingerie</td>\n",
       "    </tr>\n",
       "    <tr>\n",
       "      <th>index_code</th>\n",
       "      <td>A</td>\n",
       "      <td>A</td>\n",
       "      <td>A</td>\n",
       "      <td>B</td>\n",
       "      <td>B</td>\n",
       "    </tr>\n",
       "    <tr>\n",
       "      <th>index_name</th>\n",
       "      <td>Ladieswear</td>\n",
       "      <td>Ladieswear</td>\n",
       "      <td>Ladieswear</td>\n",
       "      <td>Lingeries/Tights</td>\n",
       "      <td>Lingeries/Tights</td>\n",
       "    </tr>\n",
       "    <tr>\n",
       "      <th>index_group_no</th>\n",
       "      <td>1</td>\n",
       "      <td>1</td>\n",
       "      <td>1</td>\n",
       "      <td>1</td>\n",
       "      <td>1</td>\n",
       "    </tr>\n",
       "    <tr>\n",
       "      <th>index_group_name</th>\n",
       "      <td>Ladieswear</td>\n",
       "      <td>Ladieswear</td>\n",
       "      <td>Ladieswear</td>\n",
       "      <td>Ladieswear</td>\n",
       "      <td>Ladieswear</td>\n",
       "    </tr>\n",
       "    <tr>\n",
       "      <th>section_no</th>\n",
       "      <td>16</td>\n",
       "      <td>16</td>\n",
       "      <td>16</td>\n",
       "      <td>61</td>\n",
       "      <td>61</td>\n",
       "    </tr>\n",
       "    <tr>\n",
       "      <th>section_name</th>\n",
       "      <td>Womens Everyday Basics</td>\n",
       "      <td>Womens Everyday Basics</td>\n",
       "      <td>Womens Everyday Basics</td>\n",
       "      <td>Womens Lingerie</td>\n",
       "      <td>Womens Lingerie</td>\n",
       "    </tr>\n",
       "    <tr>\n",
       "      <th>garment_group_no</th>\n",
       "      <td>1002</td>\n",
       "      <td>1002</td>\n",
       "      <td>1002</td>\n",
       "      <td>1017</td>\n",
       "      <td>1017</td>\n",
       "    </tr>\n",
       "    <tr>\n",
       "      <th>garment_group_name</th>\n",
       "      <td>Jersey Basic</td>\n",
       "      <td>Jersey Basic</td>\n",
       "      <td>Jersey Basic</td>\n",
       "      <td>Under-, Nightwear</td>\n",
       "      <td>Under-, Nightwear</td>\n",
       "    </tr>\n",
       "    <tr>\n",
       "      <th>detail_desc</th>\n",
       "      <td>Jersey top with narrow shoulder straps.</td>\n",
       "      <td>Jersey top with narrow shoulder straps.</td>\n",
       "      <td>Jersey top with narrow shoulder straps.</td>\n",
       "      <td>Microfibre T-shirt bra with underwired, moulde...</td>\n",
       "      <td>Microfibre T-shirt bra with underwired, moulde...</td>\n",
       "    </tr>\n",
       "  </tbody>\n",
       "</table>\n",
       "</div>"
      ],
      "text/plain": [
       "                                                                    0  \\\n",
       "article_id                                                  108775015   \n",
       "product_code                                                   108775   \n",
       "prod_name                                                   Strap top   \n",
       "product_type_no                                                   253   \n",
       "product_type_name                                            Vest top   \n",
       "product_group_name                                 Garment Upper body   \n",
       "graphical_appearance_no                                       1010016   \n",
       "graphical_appearance_name                                       Solid   \n",
       "colour_group_code                                                   9   \n",
       "colour_group_name                                               Black   \n",
       "perceived_colour_value_id                                           4   \n",
       "perceived_colour_value_name                                      Dark   \n",
       "perceived_colour_master_id                                          5   \n",
       "perceived_colour_master_name                                    Black   \n",
       "department_no                                                    1676   \n",
       "department_name                                          Jersey Basic   \n",
       "index_code                                                          A   \n",
       "index_name                                                 Ladieswear   \n",
       "index_group_no                                                      1   \n",
       "index_group_name                                           Ladieswear   \n",
       "section_no                                                         16   \n",
       "section_name                                   Womens Everyday Basics   \n",
       "garment_group_no                                                 1002   \n",
       "garment_group_name                                       Jersey Basic   \n",
       "detail_desc                   Jersey top with narrow shoulder straps.   \n",
       "\n",
       "                                                                    1  \\\n",
       "article_id                                                  108775044   \n",
       "product_code                                                   108775   \n",
       "prod_name                                                   Strap top   \n",
       "product_type_no                                                   253   \n",
       "product_type_name                                            Vest top   \n",
       "product_group_name                                 Garment Upper body   \n",
       "graphical_appearance_no                                       1010016   \n",
       "graphical_appearance_name                                       Solid   \n",
       "colour_group_code                                                  10   \n",
       "colour_group_name                                               White   \n",
       "perceived_colour_value_id                                           3   \n",
       "perceived_colour_value_name                                     Light   \n",
       "perceived_colour_master_id                                          9   \n",
       "perceived_colour_master_name                                    White   \n",
       "department_no                                                    1676   \n",
       "department_name                                          Jersey Basic   \n",
       "index_code                                                          A   \n",
       "index_name                                                 Ladieswear   \n",
       "index_group_no                                                      1   \n",
       "index_group_name                                           Ladieswear   \n",
       "section_no                                                         16   \n",
       "section_name                                   Womens Everyday Basics   \n",
       "garment_group_no                                                 1002   \n",
       "garment_group_name                                       Jersey Basic   \n",
       "detail_desc                   Jersey top with narrow shoulder straps.   \n",
       "\n",
       "                                                                    2  \\\n",
       "article_id                                                  108775051   \n",
       "product_code                                                   108775   \n",
       "prod_name                                               Strap top (1)   \n",
       "product_type_no                                                   253   \n",
       "product_type_name                                            Vest top   \n",
       "product_group_name                                 Garment Upper body   \n",
       "graphical_appearance_no                                       1010017   \n",
       "graphical_appearance_name                                      Stripe   \n",
       "colour_group_code                                                  11   \n",
       "colour_group_name                                           Off White   \n",
       "perceived_colour_value_id                                           1   \n",
       "perceived_colour_value_name                               Dusty Light   \n",
       "perceived_colour_master_id                                          9   \n",
       "perceived_colour_master_name                                    White   \n",
       "department_no                                                    1676   \n",
       "department_name                                          Jersey Basic   \n",
       "index_code                                                          A   \n",
       "index_name                                                 Ladieswear   \n",
       "index_group_no                                                      1   \n",
       "index_group_name                                           Ladieswear   \n",
       "section_no                                                         16   \n",
       "section_name                                   Womens Everyday Basics   \n",
       "garment_group_no                                                 1002   \n",
       "garment_group_name                                       Jersey Basic   \n",
       "detail_desc                   Jersey top with narrow shoulder straps.   \n",
       "\n",
       "                                                                              3  \\\n",
       "article_id                                                            110065001   \n",
       "product_code                                                             110065   \n",
       "prod_name                                                     OP T-shirt (Idro)   \n",
       "product_type_no                                                             306   \n",
       "product_type_name                                                           Bra   \n",
       "product_group_name                                                    Underwear   \n",
       "graphical_appearance_no                                                 1010016   \n",
       "graphical_appearance_name                                                 Solid   \n",
       "colour_group_code                                                             9   \n",
       "colour_group_name                                                         Black   \n",
       "perceived_colour_value_id                                                     4   \n",
       "perceived_colour_value_name                                                Dark   \n",
       "perceived_colour_master_id                                                    5   \n",
       "perceived_colour_master_name                                              Black   \n",
       "department_no                                                              1339   \n",
       "department_name                                                  Clean Lingerie   \n",
       "index_code                                                                    B   \n",
       "index_name                                                     Lingeries/Tights   \n",
       "index_group_no                                                                1   \n",
       "index_group_name                                                     Ladieswear   \n",
       "section_no                                                                   61   \n",
       "section_name                                                    Womens Lingerie   \n",
       "garment_group_no                                                           1017   \n",
       "garment_group_name                                            Under-, Nightwear   \n",
       "detail_desc                   Microfibre T-shirt bra with underwired, moulde...   \n",
       "\n",
       "                                                                              4  \n",
       "article_id                                                            110065002  \n",
       "product_code                                                             110065  \n",
       "prod_name                                                     OP T-shirt (Idro)  \n",
       "product_type_no                                                             306  \n",
       "product_type_name                                                           Bra  \n",
       "product_group_name                                                    Underwear  \n",
       "graphical_appearance_no                                                 1010016  \n",
       "graphical_appearance_name                                                 Solid  \n",
       "colour_group_code                                                            10  \n",
       "colour_group_name                                                         White  \n",
       "perceived_colour_value_id                                                     3  \n",
       "perceived_colour_value_name                                               Light  \n",
       "perceived_colour_master_id                                                    9  \n",
       "perceived_colour_master_name                                              White  \n",
       "department_no                                                              1339  \n",
       "department_name                                                  Clean Lingerie  \n",
       "index_code                                                                    B  \n",
       "index_name                                                     Lingeries/Tights  \n",
       "index_group_no                                                                1  \n",
       "index_group_name                                                     Ladieswear  \n",
       "section_no                                                                   61  \n",
       "section_name                                                    Womens Lingerie  \n",
       "garment_group_no                                                           1017  \n",
       "garment_group_name                                            Under-, Nightwear  \n",
       "detail_desc                   Microfibre T-shirt bra with underwired, moulde...  "
      ]
     },
     "execution_count": 6,
     "metadata": {},
     "output_type": "execute_result"
    }
   ],
   "source": [
    "articles_df = pd.read_csv(\"/kaggle/input/h-and-m-personalized-fashion-recommendations/articles.csv\")\n",
    "print(articles_df.shape)\n",
    "articles_df.head().T  "
   ]
  },
  {
   "cell_type": "code",
   "execution_count": 7,
   "id": "65b0a5c5",
   "metadata": {
    "execution": {
     "iopub.execute_input": "2022-06-29T12:21:31.168336Z",
     "iopub.status.busy": "2022-06-29T12:21:31.167056Z",
     "iopub.status.idle": "2022-06-29T12:21:31.332958Z",
     "shell.execute_reply": "2022-06-29T12:21:31.331225Z"
    },
    "papermill": {
     "duration": 0.180679,
     "end_time": "2022-06-29T12:21:31.335207",
     "exception": false,
     "start_time": "2022-06-29T12:21:31.154528",
     "status": "completed"
    },
    "tags": []
   },
   "outputs": [
    {
     "name": "stdout",
     "output_type": "stream",
     "text": [
      "article_id 105542\n",
      "product_code 47224\n",
      "prod_name 45875\n",
      "product_type_no 132\n",
      "product_type_name 131\n",
      "product_group_name 19\n",
      "graphical_appearance_no 30\n",
      "graphical_appearance_name 30\n",
      "colour_group_code 50\n",
      "colour_group_name 50\n",
      "perceived_colour_value_id 8\n",
      "perceived_colour_value_name 8\n",
      "perceived_colour_master_id 20\n",
      "perceived_colour_master_name 20\n",
      "department_no 299\n",
      "department_name 250\n",
      "index_code 10\n",
      "index_name 10\n",
      "index_group_no 5\n",
      "index_group_name 5\n",
      "section_no 57\n",
      "section_name 56\n",
      "garment_group_no 21\n",
      "garment_group_name 21\n",
      "detail_desc 43405\n"
     ]
    }
   ],
   "source": [
    "for col in articles_df.columns:\n",
    "    print(col, len(articles_df[col].unique()))\n",
    "    "
   ]
  },
  {
   "cell_type": "code",
   "execution_count": 8,
   "id": "abca14ce",
   "metadata": {
    "execution": {
     "iopub.execute_input": "2022-06-29T12:21:31.357366Z",
     "iopub.status.busy": "2022-06-29T12:21:31.356968Z",
     "iopub.status.idle": "2022-06-29T12:21:31.386667Z",
     "shell.execute_reply": "2022-06-29T12:21:31.385358Z"
    },
    "papermill": {
     "duration": 0.043726,
     "end_time": "2022-06-29T12:21:31.389252",
     "exception": false,
     "start_time": "2022-06-29T12:21:31.345526",
     "status": "completed"
    },
    "tags": []
   },
   "outputs": [
    {
     "name": "stdout",
     "output_type": "stream",
     "text": [
      "28317\n",
      "15581\n"
     ]
    }
   ],
   "source": [
    "print(len(transactions_df_sample.customer_id.unique()))\n",
    "print(len(transactions_df_sample.article_id.unique()))"
   ]
  },
  {
   "cell_type": "code",
   "execution_count": 9,
   "id": "02a3112f",
   "metadata": {
    "execution": {
     "iopub.execute_input": "2022-06-29T12:21:31.412620Z",
     "iopub.status.busy": "2022-06-29T12:21:31.412239Z",
     "iopub.status.idle": "2022-06-29T12:21:31.559563Z",
     "shell.execute_reply": "2022-06-29T12:21:31.558214Z"
    },
    "papermill": {
     "duration": 0.162331,
     "end_time": "2022-06-29T12:21:31.562269",
     "exception": false,
     "start_time": "2022-06-29T12:21:31.399938",
     "status": "completed"
    },
    "tags": []
   },
   "outputs": [
    {
     "name": "stdout",
     "output_type": "stream",
     "text": [
      "3.531447540346788\n"
     ]
    },
    {
     "data": {
      "text/plain": [
       "1      8676\n",
       "2      6346\n",
       "3      4022\n",
       "4      2663\n",
       "5      1653\n",
       "6      1289\n",
       "7       821\n",
       "8       689\n",
       "9       470\n",
       "10      373\n",
       "11      282\n",
       "12      208\n",
       "13      157\n",
       "15      115\n",
       "14      103\n",
       "16       71\n",
       "19       52\n",
       "18       51\n",
       "17       49\n",
       "20       38\n",
       "21       27\n",
       "24       25\n",
       "22       19\n",
       "23       17\n",
       "25       14\n",
       "28       12\n",
       "26       12\n",
       "31        8\n",
       "27        8\n",
       "29        7\n",
       "37        6\n",
       "32        6\n",
       "36        4\n",
       "39        3\n",
       "40        3\n",
       "52        3\n",
       "30        3\n",
       "38        2\n",
       "43        2\n",
       "33        1\n",
       "103       1\n",
       "34        1\n",
       "35        1\n",
       "47        1\n",
       "45        1\n",
       "42        1\n",
       "72        1\n",
       "Name: article_id, dtype: int64"
      ]
     },
     "execution_count": 9,
     "metadata": {},
     "output_type": "execute_result"
    }
   ],
   "source": [
    "print(transactions_df_sample.groupby(\"customer_id\")[\"article_id\"].count().mean())\n",
    "transactions_df_sample.groupby(\"customer_id\")[\"article_id\"].count().value_counts()"
   ]
  },
  {
   "cell_type": "code",
   "execution_count": 10,
   "id": "74491512",
   "metadata": {
    "execution": {
     "iopub.execute_input": "2022-06-29T12:21:31.585624Z",
     "iopub.status.busy": "2022-06-29T12:21:31.585258Z",
     "iopub.status.idle": "2022-06-29T12:21:31.634531Z",
     "shell.execute_reply": "2022-06-29T12:21:31.633455Z"
    },
    "papermill": {
     "duration": 0.063838,
     "end_time": "2022-06-29T12:21:31.636909",
     "exception": false,
     "start_time": "2022-06-29T12:21:31.573071",
     "status": "completed"
    },
    "tags": []
   },
   "outputs": [
    {
     "name": "stdout",
     "output_type": "stream",
     "text": [
      "114.56617647058823\n"
     ]
    },
    {
     "data": {
      "text/plain": [
       "1      5207\n",
       "2      2635\n",
       "3      1577\n",
       "4      1100\n",
       "5       800\n",
       "       ... \n",
       "142       1\n",
       "163       1\n",
       "167       1\n",
       "86        1\n",
       "797       1\n",
       "Name: customer_id, Length: 136, dtype: int64"
      ]
     },
     "execution_count": 10,
     "metadata": {},
     "output_type": "execute_result"
    }
   ],
   "source": [
    "print(transactions_df_sample.groupby(\"article_id\")[\"customer_id\"].count().value_counts().mean())\n",
    "transactions_df_sample.groupby(\"article_id\")[\"customer_id\"].count().value_counts()"
   ]
  },
  {
   "cell_type": "code",
   "execution_count": 11,
   "id": "f4e25066",
   "metadata": {
    "execution": {
     "iopub.execute_input": "2022-06-29T12:21:31.662042Z",
     "iopub.status.busy": "2022-06-29T12:21:31.661617Z",
     "iopub.status.idle": "2022-06-29T12:21:31.903373Z",
     "shell.execute_reply": "2022-06-29T12:21:31.902144Z"
    },
    "papermill": {
     "duration": 0.258128,
     "end_time": "2022-06-29T12:21:31.905975",
     "exception": false,
     "start_time": "2022-06-29T12:21:31.647847",
     "status": "completed"
    },
    "tags": []
   },
   "outputs": [
    {
     "data": {
      "text/html": [
       "<div>\n",
       "<style scoped>\n",
       "    .dataframe tbody tr th:only-of-type {\n",
       "        vertical-align: middle;\n",
       "    }\n",
       "\n",
       "    .dataframe tbody tr th {\n",
       "        vertical-align: top;\n",
       "    }\n",
       "\n",
       "    .dataframe thead th {\n",
       "        text-align: right;\n",
       "    }\n",
       "</style>\n",
       "<table border=\"1\" class=\"dataframe\">\n",
       "  <thead>\n",
       "    <tr style=\"text-align: right;\">\n",
       "      <th></th>\n",
       "      <th>t_dat</th>\n",
       "      <th>customer_id</th>\n",
       "      <th>article_id</th>\n",
       "      <th>price</th>\n",
       "      <th>sales_channel_id</th>\n",
       "      <th>article_id_enc</th>\n",
       "      <th>customer_id_enc</th>\n",
       "    </tr>\n",
       "  </thead>\n",
       "  <tbody>\n",
       "    <tr>\n",
       "      <th>0</th>\n",
       "      <td>2018-09-20</td>\n",
       "      <td>000058a12d5b43e67d225668fa1f8d618c13dc232df0ca...</td>\n",
       "      <td>663713001</td>\n",
       "      <td>0.050831</td>\n",
       "      <td>2</td>\n",
       "      <td>13274.0</td>\n",
       "      <td>1.0</td>\n",
       "    </tr>\n",
       "    <tr>\n",
       "      <th>1</th>\n",
       "      <td>2018-09-20</td>\n",
       "      <td>000058a12d5b43e67d225668fa1f8d618c13dc232df0ca...</td>\n",
       "      <td>541518023</td>\n",
       "      <td>0.030492</td>\n",
       "      <td>2</td>\n",
       "      <td>3024.0</td>\n",
       "      <td>1.0</td>\n",
       "    </tr>\n",
       "    <tr>\n",
       "      <th>2</th>\n",
       "      <td>2018-09-20</td>\n",
       "      <td>00007d2de826758b65a93dd24ce629ed66842531df6699...</td>\n",
       "      <td>505221004</td>\n",
       "      <td>0.015237</td>\n",
       "      <td>2</td>\n",
       "      <td>2027.0</td>\n",
       "      <td>2.0</td>\n",
       "    </tr>\n",
       "    <tr>\n",
       "      <th>3</th>\n",
       "      <td>2018-09-20</td>\n",
       "      <td>00007d2de826758b65a93dd24ce629ed66842531df6699...</td>\n",
       "      <td>685687003</td>\n",
       "      <td>0.016932</td>\n",
       "      <td>2</td>\n",
       "      <td>14860.0</td>\n",
       "      <td>2.0</td>\n",
       "    </tr>\n",
       "    <tr>\n",
       "      <th>4</th>\n",
       "      <td>2018-09-20</td>\n",
       "      <td>00007d2de826758b65a93dd24ce629ed66842531df6699...</td>\n",
       "      <td>685687004</td>\n",
       "      <td>0.016932</td>\n",
       "      <td>2</td>\n",
       "      <td>14861.0</td>\n",
       "      <td>2.0</td>\n",
       "    </tr>\n",
       "  </tbody>\n",
       "</table>\n",
       "</div>"
      ],
      "text/plain": [
       "        t_dat                                        customer_id  article_id  \\\n",
       "0  2018-09-20  000058a12d5b43e67d225668fa1f8d618c13dc232df0ca...   663713001   \n",
       "1  2018-09-20  000058a12d5b43e67d225668fa1f8d618c13dc232df0ca...   541518023   \n",
       "2  2018-09-20  00007d2de826758b65a93dd24ce629ed66842531df6699...   505221004   \n",
       "3  2018-09-20  00007d2de826758b65a93dd24ce629ed66842531df6699...   685687003   \n",
       "4  2018-09-20  00007d2de826758b65a93dd24ce629ed66842531df6699...   685687004   \n",
       "\n",
       "      price  sales_channel_id  article_id_enc  customer_id_enc  \n",
       "0  0.050831                 2         13274.0              1.0  \n",
       "1  0.030492                 2          3024.0              1.0  \n",
       "2  0.015237                 2          2027.0              2.0  \n",
       "3  0.016932                 2         14860.0              2.0  \n",
       "4  0.016932                 2         14861.0              2.0  "
      ]
     },
     "execution_count": 11,
     "metadata": {},
     "output_type": "execute_result"
    }
   ],
   "source": [
    "from sklearn.preprocessing import OrdinalEncoder\n",
    "\n",
    "enc = OrdinalEncoder()\n",
    "transactions_df_sample[['article_id_enc', 'customer_id_enc']] = enc.fit_transform(transactions_df_sample[['article_id', 'customer_id']]) \n",
    "\n",
    "transactions_df_sample.head()"
   ]
  },
  {
   "cell_type": "code",
   "execution_count": 12,
   "id": "16f5988c",
   "metadata": {
    "execution": {
     "iopub.execute_input": "2022-06-29T12:21:31.930327Z",
     "iopub.status.busy": "2022-06-29T12:21:31.929945Z",
     "iopub.status.idle": "2022-06-29T12:21:31.937547Z",
     "shell.execute_reply": "2022-06-29T12:21:31.936505Z"
    },
    "papermill": {
     "duration": 0.022455,
     "end_time": "2022-06-29T12:21:31.939801",
     "exception": false,
     "start_time": "2022-06-29T12:21:31.917346",
     "status": "completed"
    },
    "tags": []
   },
   "outputs": [
    {
     "data": {
      "text/plain": [
       "Index(['article_id', 'product_code', 'prod_name', 'product_type_no',\n",
       "       'product_type_name', 'product_group_name', 'graphical_appearance_no',\n",
       "       'graphical_appearance_name', 'colour_group_code', 'colour_group_name',\n",
       "       'perceived_colour_value_id', 'perceived_colour_value_name',\n",
       "       'perceived_colour_master_id', 'perceived_colour_master_name',\n",
       "       'department_no', 'department_name', 'index_code', 'index_name',\n",
       "       'index_group_no', 'index_group_name', 'section_no', 'section_name',\n",
       "       'garment_group_no', 'garment_group_name', 'detail_desc'],\n",
       "      dtype='object')"
      ]
     },
     "execution_count": 12,
     "metadata": {},
     "output_type": "execute_result"
    }
   ],
   "source": [
    "articles_df.columns \n"
   ]
  },
  {
   "cell_type": "code",
   "execution_count": 13,
   "id": "8d9075f1",
   "metadata": {
    "execution": {
     "iopub.execute_input": "2022-06-29T12:21:31.964466Z",
     "iopub.status.busy": "2022-06-29T12:21:31.964101Z",
     "iopub.status.idle": "2022-06-29T12:21:31.968733Z",
     "shell.execute_reply": "2022-06-29T12:21:31.967739Z"
    },
    "papermill": {
     "duration": 0.019793,
     "end_time": "2022-06-29T12:21:31.971225",
     "exception": false,
     "start_time": "2022-06-29T12:21:31.951432",
     "status": "completed"
    },
    "tags": []
   },
   "outputs": [],
   "source": [
    "# add articles features\n",
    "\n",
    "#transactions_df_sample = transactions_df_sample.merge(articles_df[['product_type_no', 'index_group_no', 'article_id']],how=\"left\", on=\"article_id\")"
   ]
  },
  {
   "cell_type": "code",
   "execution_count": null,
   "id": "a6c664e6",
   "metadata": {
    "papermill": {
     "duration": 0.011036,
     "end_time": "2022-06-29T12:21:31.994284",
     "exception": false,
     "start_time": "2022-06-29T12:21:31.983248",
     "status": "completed"
    },
    "tags": []
   },
   "outputs": [],
   "source": []
  },
  {
   "cell_type": "code",
   "execution_count": 14,
   "id": "5f1708e1",
   "metadata": {
    "execution": {
     "iopub.execute_input": "2022-06-29T12:21:32.018678Z",
     "iopub.status.busy": "2022-06-29T12:21:32.018312Z",
     "iopub.status.idle": "2022-06-29T12:21:32.025531Z",
     "shell.execute_reply": "2022-06-29T12:21:32.024380Z"
    },
    "papermill": {
     "duration": 0.022166,
     "end_time": "2022-06-29T12:21:32.027729",
     "exception": false,
     "start_time": "2022-06-29T12:21:32.005563",
     "status": "completed"
    },
    "tags": []
   },
   "outputs": [],
   "source": [
    "transactions_df_sample['article_id_enc'] = transactions_df_sample['article_id_enc'].astype(int)\n",
    "transactions_df_sample['customer_id_enc'] = transactions_df_sample['customer_id_enc'].astype(int)"
   ]
  },
  {
   "cell_type": "code",
   "execution_count": 15,
   "id": "1967db9d",
   "metadata": {
    "execution": {
     "iopub.execute_input": "2022-06-29T12:21:32.052735Z",
     "iopub.status.busy": "2022-06-29T12:21:32.052364Z",
     "iopub.status.idle": "2022-06-29T12:21:32.074549Z",
     "shell.execute_reply": "2022-06-29T12:21:32.073384Z"
    },
    "papermill": {
     "duration": 0.038004,
     "end_time": "2022-06-29T12:21:32.077059",
     "exception": false,
     "start_time": "2022-06-29T12:21:32.039055",
     "status": "completed"
    },
    "tags": []
   },
   "outputs": [
    {
     "data": {
      "text/html": [
       "<div>\n",
       "<style scoped>\n",
       "    .dataframe tbody tr th:only-of-type {\n",
       "        vertical-align: middle;\n",
       "    }\n",
       "\n",
       "    .dataframe tbody tr th {\n",
       "        vertical-align: top;\n",
       "    }\n",
       "\n",
       "    .dataframe thead th {\n",
       "        text-align: right;\n",
       "    }\n",
       "</style>\n",
       "<table border=\"1\" class=\"dataframe\">\n",
       "  <thead>\n",
       "    <tr style=\"text-align: right;\">\n",
       "      <th></th>\n",
       "      <th>article_id_enc</th>\n",
       "      <th>article_id</th>\n",
       "    </tr>\n",
       "  </thead>\n",
       "  <tbody>\n",
       "    <tr>\n",
       "      <th>0</th>\n",
       "      <td>13274</td>\n",
       "      <td>663713001</td>\n",
       "    </tr>\n",
       "    <tr>\n",
       "      <th>1</th>\n",
       "      <td>3024</td>\n",
       "      <td>541518023</td>\n",
       "    </tr>\n",
       "    <tr>\n",
       "      <th>2</th>\n",
       "      <td>2027</td>\n",
       "      <td>505221004</td>\n",
       "    </tr>\n",
       "    <tr>\n",
       "      <th>3</th>\n",
       "      <td>14860</td>\n",
       "      <td>685687003</td>\n",
       "    </tr>\n",
       "    <tr>\n",
       "      <th>4</th>\n",
       "      <td>14861</td>\n",
       "      <td>685687004</td>\n",
       "    </tr>\n",
       "    <tr>\n",
       "      <th>...</th>\n",
       "      <td>...</td>\n",
       "      <td>...</td>\n",
       "    </tr>\n",
       "    <tr>\n",
       "      <th>99939</th>\n",
       "      <td>13032</td>\n",
       "      <td>661351001</td>\n",
       "    </tr>\n",
       "    <tr>\n",
       "      <th>99951</th>\n",
       "      <td>10590</td>\n",
       "      <td>637028001</td>\n",
       "    </tr>\n",
       "    <tr>\n",
       "      <th>99972</th>\n",
       "      <td>8915</td>\n",
       "      <td>623873001</td>\n",
       "    </tr>\n",
       "    <tr>\n",
       "      <th>99975</th>\n",
       "      <td>3278</td>\n",
       "      <td>548837002</td>\n",
       "    </tr>\n",
       "    <tr>\n",
       "      <th>99991</th>\n",
       "      <td>2937</td>\n",
       "      <td>538977001</td>\n",
       "    </tr>\n",
       "  </tbody>\n",
       "</table>\n",
       "<p>15581 rows × 2 columns</p>\n",
       "</div>"
      ],
      "text/plain": [
       "       article_id_enc  article_id\n",
       "0               13274   663713001\n",
       "1                3024   541518023\n",
       "2                2027   505221004\n",
       "3               14860   685687003\n",
       "4               14861   685687004\n",
       "...               ...         ...\n",
       "99939           13032   661351001\n",
       "99951           10590   637028001\n",
       "99972            8915   623873001\n",
       "99975            3278   548837002\n",
       "99991            2937   538977001\n",
       "\n",
       "[15581 rows x 2 columns]"
      ]
     },
     "execution_count": 15,
     "metadata": {},
     "output_type": "execute_result"
    }
   ],
   "source": [
    "transactions_df_sample[['article_id_enc','article_id']].drop_duplicates()"
   ]
  },
  {
   "cell_type": "code",
   "execution_count": 16,
   "id": "a805f956",
   "metadata": {
    "execution": {
     "iopub.execute_input": "2022-06-29T12:21:32.102454Z",
     "iopub.status.busy": "2022-06-29T12:21:32.101820Z",
     "iopub.status.idle": "2022-06-29T12:21:32.160480Z",
     "shell.execute_reply": "2022-06-29T12:21:32.159285Z"
    },
    "papermill": {
     "duration": 0.074303,
     "end_time": "2022-06-29T12:21:32.163058",
     "exception": false,
     "start_time": "2022-06-29T12:21:32.088755",
     "status": "completed"
    },
    "tags": []
   },
   "outputs": [
    {
     "name": "stdout",
     "output_type": "stream",
     "text": [
      "<class 'pandas.core.frame.DataFrame'>\n",
      "Int64Index: 15581 entries, 0 to 15580\n",
      "Data columns (total 4 columns):\n",
      " #   Column            Non-Null Count  Dtype\n",
      "---  ------            --------------  -----\n",
      " 0   product_type_no   15581 non-null  int64\n",
      " 1   index_group_no    15581 non-null  int64\n",
      " 2   garment_group_no  15581 non-null  int64\n",
      " 3   article_id        15581 non-null  int64\n",
      "dtypes: int64(4)\n",
      "memory usage: 608.6 KB\n"
     ]
    }
   ],
   "source": [
    "item_features = articles_df[['product_type_no', 'index_group_no', 'garment_group_no', 'article_id']].copy()\n",
    "item_features = item_features.merge(transactions_df_sample[['article_id_enc','article_id']].drop_duplicates(), how=\"left\", on=\"article_id\")\n",
    "item_features.dropna(axis=0, inplace=True)\n",
    "item_features['article_id_enc'] = item_features['article_id_enc'].astype(int)\n",
    "item_features.set_index(\"article_id_enc\", inplace=True)\n",
    "item_features.info()"
   ]
  },
  {
   "cell_type": "code",
   "execution_count": null,
   "id": "116f9280",
   "metadata": {
    "execution": {
     "iopub.execute_input": "2022-06-29T11:11:15.180228Z",
     "iopub.status.busy": "2022-06-29T11:11:15.179209Z",
     "iopub.status.idle": "2022-06-29T11:11:15.195532Z",
     "shell.execute_reply": "2022-06-29T11:11:15.194695Z",
     "shell.execute_reply.started": "2022-06-29T11:11:15.180190Z"
    },
    "papermill": {
     "duration": 0.011401,
     "end_time": "2022-06-29T12:21:32.186607",
     "exception": false,
     "start_time": "2022-06-29T12:21:32.175206",
     "status": "completed"
    },
    "tags": []
   },
   "outputs": [],
   "source": []
  },
  {
   "cell_type": "code",
   "execution_count": 17,
   "id": "4e9f974d",
   "metadata": {
    "execution": {
     "iopub.execute_input": "2022-06-29T12:21:32.212903Z",
     "iopub.status.busy": "2022-06-29T12:21:32.211671Z",
     "iopub.status.idle": "2022-06-29T12:21:32.216523Z",
     "shell.execute_reply": "2022-06-29T12:21:32.215542Z"
    },
    "papermill": {
     "duration": 0.020425,
     "end_time": "2022-06-29T12:21:32.218825",
     "exception": false,
     "start_time": "2022-06-29T12:21:32.198400",
     "status": "completed"
    },
    "tags": []
   },
   "outputs": [],
   "source": [
    "# item_features.set_index(\"article_id_enc\")[['product_type_no', 'index_group_no', 'garment_group_no']].stack()\n",
    "# columns=['product_type_no', 'index_group_no', 'garment_group_no'])\n"
   ]
  },
  {
   "cell_type": "code",
   "execution_count": 18,
   "id": "a7291fb4",
   "metadata": {
    "execution": {
     "iopub.execute_input": "2022-06-29T12:21:32.244870Z",
     "iopub.status.busy": "2022-06-29T12:21:32.243748Z",
     "iopub.status.idle": "2022-06-29T12:21:32.262183Z",
     "shell.execute_reply": "2022-06-29T12:21:32.260953Z"
    },
    "papermill": {
     "duration": 0.034611,
     "end_time": "2022-06-29T12:21:32.265255",
     "exception": false,
     "start_time": "2022-06-29T12:21:32.230644",
     "status": "completed"
    },
    "tags": []
   },
   "outputs": [],
   "source": [
    "train_df, test_df = train_test_split(transactions_df_sample, test_size=0.1, random_state=42)"
   ]
  },
  {
   "cell_type": "markdown",
   "id": "38741e02",
   "metadata": {
    "papermill": {
     "duration": 0.011327,
     "end_time": "2022-06-29T12:21:32.288715",
     "exception": false,
     "start_time": "2022-06-29T12:21:32.277388",
     "status": "completed"
    },
    "tags": []
   },
   "source": [
    "# Collaborative filtering "
   ]
  },
  {
   "cell_type": "code",
   "execution_count": 19,
   "id": "02d609fc",
   "metadata": {
    "execution": {
     "iopub.execute_input": "2022-06-29T12:21:32.314571Z",
     "iopub.status.busy": "2022-06-29T12:21:32.313272Z",
     "iopub.status.idle": "2022-06-29T12:21:32.332567Z",
     "shell.execute_reply": "2022-06-29T12:21:32.331093Z"
    },
    "papermill": {
     "duration": 0.034755,
     "end_time": "2022-06-29T12:21:32.335200",
     "exception": false,
     "start_time": "2022-06-29T12:21:32.300445",
     "status": "completed"
    },
    "tags": []
   },
   "outputs": [],
   "source": [
    "import scipy.sparse as sp\n",
    "from lightfm import LightFM\n",
    "from lightfm.evaluation import precision_at_k\n",
    "from lightfm.evaluation import auc_score\n",
    "\n",
    "from lightfm.cross_validation import random_train_test_split\n",
    "from lightfm.data import Dataset\n"
   ]
  },
  {
   "cell_type": "code",
   "execution_count": 20,
   "id": "864751d3",
   "metadata": {
    "execution": {
     "iopub.execute_input": "2022-06-29T12:21:32.360791Z",
     "iopub.status.busy": "2022-06-29T12:21:32.359718Z",
     "iopub.status.idle": "2022-06-29T12:21:32.370795Z",
     "shell.execute_reply": "2022-06-29T12:21:32.369669Z"
    },
    "papermill": {
     "duration": 0.025942,
     "end_time": "2022-06-29T12:21:32.372952",
     "exception": false,
     "start_time": "2022-06-29T12:21:32.347010",
     "status": "completed"
    },
    "tags": []
   },
   "outputs": [
    {
     "data": {
      "text/plain": [
       "(28317, 15581)"
      ]
     },
     "execution_count": 20,
     "metadata": {},
     "output_type": "execute_result"
    }
   ],
   "source": [
    "# Convert data to sparse matrix\n",
    "# (np.float32 coo_matrix of shape [n_users, n_items]) – the matrix containing user-item interactions. \n",
    "# Will be converted to numpy.float32 dtype if it is not of that type.\n",
    "\n",
    "data_sp = sp.coo_matrix((np.ones(train_df.shape[0]), (train_df.customer_id_enc.values, train_df.article_id_enc.values ) ))\n",
    "data_sp.shape"
   ]
  },
  {
   "cell_type": "code",
   "execution_count": 21,
   "id": "1bce5d85",
   "metadata": {
    "execution": {
     "iopub.execute_input": "2022-06-29T12:21:32.398395Z",
     "iopub.status.busy": "2022-06-29T12:21:32.397993Z",
     "iopub.status.idle": "2022-06-29T12:21:32.424212Z",
     "shell.execute_reply": "2022-06-29T12:21:32.423393Z"
    },
    "papermill": {
     "duration": 0.041554,
     "end_time": "2022-06-29T12:21:32.426303",
     "exception": false,
     "start_time": "2022-06-29T12:21:32.384749",
     "status": "completed"
    },
    "tags": []
   },
   "outputs": [
    {
     "data": {
      "text/plain": [
       "(15581, 96)"
      ]
     },
     "execution_count": 21,
     "metadata": {},
     "output_type": "execute_result"
    }
   ],
   "source": [
    "# build item features\n",
    "# item_features (np.float32 csr_matrix of shape [n_items, n_item_features], optional) – Each row contains that item’s weights over features.\n",
    "item_features_product_type_no = pd.get_dummies(item_features[\"product_type_no\"])\n",
    "item_features_product_type_no.shape\n",
    "\n",
    "item_features_csr = sp.csr_matrix(item_features_product_type_no.values)\n",
    "item_features_csr.shape"
   ]
  },
  {
   "cell_type": "code",
   "execution_count": 22,
   "id": "543d300f",
   "metadata": {
    "execution": {
     "iopub.execute_input": "2022-06-29T12:21:32.452930Z",
     "iopub.status.busy": "2022-06-29T12:21:32.451863Z",
     "iopub.status.idle": "2022-06-29T12:21:32.462338Z",
     "shell.execute_reply": "2022-06-29T12:21:32.461177Z"
    },
    "papermill": {
     "duration": 0.026594,
     "end_time": "2022-06-29T12:21:32.465014",
     "exception": false,
     "start_time": "2022-06-29T12:21:32.438420",
     "status": "completed"
    },
    "tags": []
   },
   "outputs": [],
   "source": [
    "# Make split\n",
    "train_sp, valid_sp = random_train_test_split(data_sp, test_percentage=0.2, random_state=42)"
   ]
  },
  {
   "cell_type": "code",
   "execution_count": 23,
   "id": "a2ee30e5",
   "metadata": {
    "execution": {
     "iopub.execute_input": "2022-06-29T12:21:32.490832Z",
     "iopub.status.busy": "2022-06-29T12:21:32.490343Z",
     "iopub.status.idle": "2022-06-29T12:21:33.302873Z",
     "shell.execute_reply": "2022-06-29T12:21:33.301877Z"
    },
    "papermill": {
     "duration": 0.828267,
     "end_time": "2022-06-29T12:21:33.305357",
     "exception": false,
     "start_time": "2022-06-29T12:21:32.477090",
     "status": "completed"
    },
    "tags": []
   },
   "outputs": [
    {
     "data": {
      "text/plain": [
       "<lightfm.lightfm.LightFM at 0x7fba0a430790>"
      ]
     },
     "execution_count": 23,
     "metadata": {},
     "output_type": "execute_result"
    }
   ],
   "source": [
    "# Define the model\n",
    "\n",
    "model = LightFM(no_components=30, loss='warp', random_state=42)\n",
    "model.fit(train_sp, epochs=10, num_threads=2)"
   ]
  },
  {
   "cell_type": "code",
   "execution_count": 24,
   "id": "8b76b1ed",
   "metadata": {
    "execution": {
     "iopub.execute_input": "2022-06-29T12:21:33.332162Z",
     "iopub.status.busy": "2022-06-29T12:21:33.331749Z",
     "iopub.status.idle": "2022-06-29T12:21:59.983506Z",
     "shell.execute_reply": "2022-06-29T12:21:59.982168Z"
    },
    "papermill": {
     "duration": 26.668105,
     "end_time": "2022-06-29T12:21:59.986220",
     "exception": false,
     "start_time": "2022-06-29T12:21:33.318115",
     "status": "completed"
    },
    "tags": []
   },
   "outputs": [
    {
     "name": "stdout",
     "output_type": "stream",
     "text": [
      "Train AUC: 0.99\n",
      "Valid AUC: 0.78\n"
     ]
    }
   ],
   "source": [
    "# Evaluate the model\n",
    "print(\"Train AUC: %.2f\" % auc_score(model, train_sp).mean())\n",
    "print(\"Valid AUC: %.2f\" % auc_score(model, valid_sp).mean())\n"
   ]
  },
  {
   "cell_type": "code",
   "execution_count": 25,
   "id": "f36b1161",
   "metadata": {
    "execution": {
     "iopub.execute_input": "2022-06-29T12:22:00.012800Z",
     "iopub.status.busy": "2022-06-29T12:22:00.012442Z",
     "iopub.status.idle": "2022-06-29T12:22:00.035629Z",
     "shell.execute_reply": "2022-06-29T12:22:00.034386Z"
    },
    "papermill": {
     "duration": 0.039575,
     "end_time": "2022-06-29T12:22:00.038195",
     "exception": false,
     "start_time": "2022-06-29T12:21:59.998620",
     "status": "completed"
    },
    "tags": []
   },
   "outputs": [
    {
     "data": {
      "text/plain": [
       "array([ 0.18879575,  0.23688619, -0.6781744 , ..., -0.2560805 ,\n",
       "        1.7136813 ,  1.221035  ], dtype=float32)"
      ]
     },
     "execution_count": 25,
     "metadata": {},
     "output_type": "execute_result"
    }
   ],
   "source": [
    "model.predict(train_df.customer_id_enc.values, train_df.article_id_enc.values)"
   ]
  },
  {
   "cell_type": "code",
   "execution_count": 26,
   "id": "ade1e260",
   "metadata": {
    "execution": {
     "iopub.execute_input": "2022-06-29T12:22:00.064995Z",
     "iopub.status.busy": "2022-06-29T12:22:00.063927Z",
     "iopub.status.idle": "2022-06-29T12:22:04.705978Z",
     "shell.execute_reply": "2022-06-29T12:22:04.704815Z"
    },
    "papermill": {
     "duration": 4.657773,
     "end_time": "2022-06-29T12:22:04.708242",
     "exception": false,
     "start_time": "2022-06-29T12:22:00.050469",
     "status": "completed"
    },
    "tags": []
   },
   "outputs": [
    {
     "data": {
      "text/plain": [
       "<lightfm.lightfm.LightFM at 0x7fba0a350b10>"
      ]
     },
     "execution_count": 26,
     "metadata": {},
     "output_type": "execute_result"
    }
   ],
   "source": [
    "# Model with item features\n",
    "\n",
    "model2 = LightFM(no_components=150, loss='warp', random_state=42)\n",
    "model2.fit(train_sp, item_features=item_features_csr, epochs=20, num_threads=2)"
   ]
  },
  {
   "cell_type": "code",
   "execution_count": 27,
   "id": "5231268b",
   "metadata": {
    "execution": {
     "iopub.execute_input": "2022-06-29T12:22:04.734381Z",
     "iopub.status.busy": "2022-06-29T12:22:04.734009Z",
     "iopub.status.idle": "2022-06-29T12:22:59.858289Z",
     "shell.execute_reply": "2022-06-29T12:22:59.856551Z"
    },
    "papermill": {
     "duration": 55.14056,
     "end_time": "2022-06-29T12:22:59.861153",
     "exception": false,
     "start_time": "2022-06-29T12:22:04.720593",
     "status": "completed"
    },
    "tags": []
   },
   "outputs": [
    {
     "name": "stdout",
     "output_type": "stream",
     "text": [
      "Train AUC: 0.92\n",
      "Valid AUC: 0.69\n"
     ]
    }
   ],
   "source": [
    "# Evaluate the model\n",
    "print(\"Train AUC: %.2f\" % auc_score(model2, train_sp, item_features=item_features_csr).mean())\n",
    "print(\"Valid AUC: %.2f\" % auc_score(model2, valid_sp, item_features=item_features_csr).mean())"
   ]
  },
  {
   "cell_type": "code",
   "execution_count": 28,
   "id": "a9f486f8",
   "metadata": {
    "execution": {
     "iopub.execute_input": "2022-06-29T12:22:59.889283Z",
     "iopub.status.busy": "2022-06-29T12:22:59.888870Z",
     "iopub.status.idle": "2022-06-29T12:22:59.931089Z",
     "shell.execute_reply": "2022-06-29T12:22:59.929772Z"
    },
    "papermill": {
     "duration": 0.06023,
     "end_time": "2022-06-29T12:22:59.934020",
     "exception": false,
     "start_time": "2022-06-29T12:22:59.873790",
     "status": "completed"
    },
    "tags": []
   },
   "outputs": [],
   "source": [
    "article_dict = dict(zip(train_df[\"article_id_enc\"].values, train_df[\"article_id\"].values))"
   ]
  },
  {
   "cell_type": "code",
   "execution_count": 29,
   "id": "aedb2618",
   "metadata": {
    "execution": {
     "iopub.execute_input": "2022-06-29T12:22:59.961882Z",
     "iopub.status.busy": "2022-06-29T12:22:59.961008Z",
     "iopub.status.idle": "2022-06-29T12:23:00.041399Z",
     "shell.execute_reply": "2022-06-29T12:23:00.040286Z"
    },
    "papermill": {
     "duration": 0.097646,
     "end_time": "2022-06-29T12:23:00.044609",
     "exception": false,
     "start_time": "2022-06-29T12:22:59.946963",
     "status": "completed"
    },
    "tags": []
   },
   "outputs": [
    {
     "name": "stdout",
     "output_type": "stream",
     "text": [
      "[13274  3024  2027 14860 14861 14858  2026 15022  1884  6778]\n",
      "\n",
      "************************************************************\n",
      "  Recomendations for user_id = 4\n",
      "************************************************************\n",
      "\n",
      "     Already bought:\n",
      " 625480003  Flora                     Dress                     Ladieswear               \n",
      " 658183002  BOOGIE hooded tee         T-shirt                   Sport                    \n",
      "\n",
      "     Recommended:\n",
      " 658183002  Sue                       Shorts                    Ladieswear               \n",
      " 658183002  Flora                     Dress                     Ladieswear               \n",
      " 658183002  Luisa tee                 T-shirt                   Ladieswear               \n",
      " 658183002  BOOGIE hooded tee         T-shirt                   Sport                    \n",
      " 658183002  BOOGIE hooded tee         T-shirt                   Sport                    \n",
      "\n",
      "************************************************************\n",
      "  Recomendations for user_id = 15\n",
      "************************************************************\n",
      "\n",
      "     Already bought:\n",
      " 685687004  W YODA KNIT OL OFFER      Sweater                   Ladieswear               \n",
      " 566140001  Timeless Tie Tanga        Swimwear bottom           Ladieswear               \n",
      " 559630007  Timeless Top              Bikini top                Ladieswear               \n",
      " 560213002  Love Shack top            Bikini top                Ladieswear               \n",
      "\n",
      "     Recommended:\n",
      " 560213002  W YODA KNIT OL OFFER      Sweater                   Ladieswear               \n",
      " 560213002  Nord tee                  Top                       Ladieswear               \n",
      " 560213002  W YODA KNIT OL OFFER      Sweater                   Ladieswear               \n",
      " 560213002  CORY CORD SKIRT           Skirt                     Divided                  \n",
      " 560213002  Love Shack top            Bikini top                Ladieswear               \n",
      "\n",
      "************************************************************\n",
      "  Recomendations for user_id = 45\n",
      "************************************************************\n",
      "\n",
      "     Already bought:\n",
      " 687424002  Ocean                     Dress                     Ladieswear               \n",
      " 687424002  Ocean                     Dress                     Ladieswear               \n",
      " 577399001  Violet tee dress          Dress                     Ladieswear               \n",
      " 577399001  Violet tee dress          Dress                     Ladieswear               \n",
      " 656213001  Emma Body                 Underwear body            Ladieswear               \n",
      " 656213001  Emma Body                 Underwear body            Ladieswear               \n",
      "\n",
      "     Recommended:\n",
      " 656213001  SUPREME conscious         Leggings/Tights           Sport                    \n",
      " 656213001  CHIPMUNK loose tee (1)    T-shirt                   Sport                    \n",
      " 656213001  EDC ROMAN BLOUSE          Blouse                    Ladieswear               \n",
      " 656213001  Emma Body                 Underwear body            Ladieswear               \n",
      " 656213001  Ocean                     Dress                     Ladieswear               \n",
      "\n",
      "************************************************************\n",
      "  Recomendations for user_id = 444\n",
      "************************************************************\n",
      "\n",
      "     Already bought:\n",
      " 634015009  FOG tanktop               Vest top                  Sport                    \n",
      " 564786020  KARIN sports bra          Bra                       Sport                    \n",
      " 640021005  Perrie Trash HW Denim TRS Trousers                  Divided                  \n",
      " 567993015  IZZY loose tee (1)        T-shirt                   Sport                    \n",
      " 622618004  POWER tights              Leggings/Tights           Sport                    \n",
      " 560270010  NORWAY fleece jacket (1)  Hoodie                    Sport                    \n",
      "\n",
      "     Recommended:\n",
      " 560270010  Doris L/S                 Top                       Divided                  \n",
      " 560270010  IZZY loose tee (1)        T-shirt                   Sport                    \n",
      " 560270010  POWER tights              Leggings/Tights           Sport                    \n",
      " 560270010  W YODA KNIT OL OFFER      Sweater                   Ladieswear               \n",
      " 560270010  Skinny Ankle R.W Brooklyn Trousers                  Ladieswear               \n",
      "\n",
      "************************************************************\n",
      "  Recomendations for user_id = 777\n",
      "************************************************************\n",
      "\n",
      "     Already bought:\n",
      " 562245018  Luna skinny RW            Trousers                  Ladieswear               \n",
      " 562245018  Luna skinny RW            Trousers                  Ladieswear               \n",
      " 562245059  Luna skinny RW            Trousers                  Ladieswear               \n",
      "\n",
      "     Recommended:\n",
      " 562245059  EDC ROMAN BLOUSE          Blouse                    Ladieswear               \n",
      " 562245059  Luna skinny RW            Trousers                  Ladieswear               \n",
      " 562245059  W YODA KNIT OL OFFER      Sweater                   Ladieswear               \n",
      " 562245059  W YODA KNIT OL OFFER      Sweater                   Ladieswear               \n",
      " 562245059  W YODA KNIT OL OFFER      Sweater                   Ladieswear               \n",
      "\n",
      "************************************************************\n",
      "  Recomendations for user_id = 2784\n",
      "************************************************************\n",
      "\n",
      "     Already bought:\n",
      " 586011008  MAUI LACE LS              T-shirt                   Ladieswear               \n",
      " 628930008  SOPHIA BLOUSE             Blouse                    Divided                  \n",
      "\n",
      "     Recommended:\n",
      " 628930008  W YODA KNIT OL OFFER      Sweater                   Ladieswear               \n",
      " 628930008  Billie Boot               Boots                     Divided                  \n",
      " 628930008  Bloom                     Shirt                     Ladieswear               \n",
      " 628930008  EDC ROMAN BLOUSE          Blouse                    Ladieswear               \n",
      " 628930008  SOPHIA BLOUSE             Blouse                    Divided                  \n",
      "\n",
      "************************************************************\n",
      "  Recomendations for user_id = 4523\n",
      "************************************************************\n",
      "\n",
      "     Already bought:\n",
      " 557248009  Richie Regular Hood       Hoodie                    Menswear                 \n",
      " 557248009  Richie Regular Hood       Hoodie                    Menswear                 \n",
      " 557248001  Richie Regular Hood       Hoodie                    Menswear                 \n",
      "\n",
      "     Recommended:\n",
      " 557248001  Richie Regular Hood       Hoodie                    Menswear                 \n",
      " 557248001  Mini Flare H.W Bronx      Trousers                  Divided                  \n",
      " 557248001  Taya Hood                 Hoodie                    Divided                  \n",
      " 557248001  SUPREME TIGHTS            Leggings/Tights           Sport                    \n",
      " 557248001  Richie Regular Hood       Hoodie                    Menswear                 \n",
      "\n",
      "************************************************************\n",
      "  Recomendations for user_id = 9876\n",
      "************************************************************\n",
      "\n",
      "     Already bought:\n",
      " 677218001  J Ferrara                 Dress                     Ladieswear               \n",
      " 579541035  Calista (1)               Cardigan                  Ladieswear               \n",
      " 666328001  Sugar                     Blouse                    Ladieswear               \n",
      "\n",
      "     Recommended:\n",
      " 666328001  Jade Denim TRS            Trousers                  Divided                  \n",
      " 666328001  Tilly                     T-shirt                   Ladieswear               \n",
      " 666328001  Luna skinny RW            Trousers                  Ladieswear               \n",
      " 666328001  W YODA KNIT OL OFFER      Sweater                   Ladieswear               \n",
      " 666328001  Flock (1)                 Sweater                   Ladieswear               \n"
     ]
    }
   ],
   "source": [
    "def sample_recommendation(model, transactions_df, articles_df, article_dict, num, user_ids):\n",
    "\n",
    "    items = transactions_df.article_id_enc.unique()\n",
    "    print(items[:10])\n",
    "\n",
    "    for user_id in user_ids:\n",
    "        print()\n",
    "        print(\"*\" * 60)\n",
    "        print(\"  Recomendations for user_id =\", user_id)\n",
    "        print(\"*\" * 60)\n",
    "        \n",
    "        print(\"\\n     Already bought:\")\n",
    "        rtg = transactions_df[transactions_df[\"customer_id_enc\"] == user_id][\"article_id\"].values\n",
    "        \n",
    "        #print(\"{:10}  {:25} {:25} {:25}\".format(\"id\", \"prod name\", \"product type name\",\"index group name\", \"section name\"))\n",
    "        #print()\n",
    "\n",
    "        for item in rtg:           \n",
    "            print(\"{:10}  {:25} {:25} {:25}\".format(item, articles_df.loc[item, \"prod_name\"], articles_df.loc[item, \"product_type_name\"],\n",
    "                                                          articles_df.loc[item, \"index_group_name\"],\n",
    "                                                          articles_df.loc[item, \"section_name\"]\n",
    "                                                          ))\n",
    "        \n",
    "        # product_type_name index_group_name section_name\n",
    "        #known_positives = data['Movie ID'][data.tocsr()[user_id].indices]\n",
    "        scores = model.predict(np.ones(len(items)) * user_id, items)\n",
    "        \n",
    "        #print(scores[-10:])\n",
    "        \n",
    "        argsort_scores_idx = np.argsort(scores)[-num:]\n",
    "        \n",
    "        #print(top_items[:10])\n",
    "        #print(scores[np.argsort(scores)])\n",
    "        \n",
    "        \n",
    "        print(\"\\n     Recommended:\")\n",
    "\n",
    "        for i in argsort_scores_idx:\n",
    "            #print(i, items[i],article_dict[items[i]])\n",
    "            ii = article_dict[items[i]]\n",
    "            print(\"{:10}  {:25} {:25} {:25}\".format(item, articles_df.loc[ii, \"prod_name\"], articles_df.loc[ii, \"product_type_name\"],\n",
    "                                                          articles_df.loc[ii, \"index_group_name\"],\n",
    "                                                          articles_df.loc[ii, \"section_name\"]\n",
    "                                                          ))\n",
    "        #print()\n",
    "        \n",
    "sample_recommendation(model, transactions_df_sample, articles_df.set_index(\"article_id\"), article_dict, 5, [4, 15, 45, 444, 777, 2784, 4523, 9876])"
   ]
  }
 ],
 "metadata": {
  "kernelspec": {
   "display_name": "Python 3",
   "language": "python",
   "name": "python3"
  },
  "language_info": {
   "codemirror_mode": {
    "name": "ipython",
    "version": 3
   },
   "file_extension": ".py",
   "mimetype": "text/x-python",
   "name": "python",
   "nbconvert_exporter": "python",
   "pygments_lexer": "ipython3",
   "version": "3.7.12"
  },
  "papermill": {
   "default_parameters": {},
   "duration": 170.511939,
   "end_time": "2022-06-29T12:23:01.382516",
   "environment_variables": {},
   "exception": null,
   "input_path": "__notebook__.ipynb",
   "output_path": "__notebook__.ipynb",
   "parameters": {},
   "start_time": "2022-06-29T12:20:10.870577",
   "version": "2.3.4"
  }
 },
 "nbformat": 4,
 "nbformat_minor": 5
}
