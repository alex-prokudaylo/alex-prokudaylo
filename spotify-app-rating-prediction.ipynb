{
 "cells": [
  {
   "cell_type": "code",
   "execution_count": 1,
   "id": "257de716",
   "metadata": {
    "_cell_guid": "b1076dfc-b9ad-4769-8c92-a6c4dae69d19",
    "_uuid": "8f2839f25d086af736a60e9eeb907d3b93b6e0e5",
    "execution": {
     "iopub.execute_input": "2022-08-11T10:41:13.040716Z",
     "iopub.status.busy": "2022-08-11T10:41:13.040062Z",
     "iopub.status.idle": "2022-08-11T10:41:15.071458Z",
     "shell.execute_reply": "2022-08-11T10:41:15.070144Z"
    },
    "papermill": {
     "duration": 2.052012,
     "end_time": "2022-08-11T10:41:15.074458",
     "exception": false,
     "start_time": "2022-08-11T10:41:13.022446",
     "status": "completed"
    },
    "tags": []
   },
   "outputs": [
    {
     "name": "stdout",
     "output_type": "stream",
     "text": [
      "/kaggle/input/spotify-app-reviews-2022/reviews.csv\n"
     ]
    }
   ],
   "source": [
    "import numpy as np # linear algebra\n",
    "import pandas as pd # data processing, CSV file I/O (e.g. pd.read_csv)\n",
    "import os\n",
    "for dirname, _, filenames in os.walk('/kaggle/input'):\n",
    "    for filename in filenames:\n",
    "        print(os.path.join(dirname, filename))\n",
    "\n",
    "        \n",
    "%matplotlib inline\n",
    "import matplotlib.pyplot as plt\n",
    "from tqdm import tqdm_notebook\n",
    "from sklearn.metrics import *\n",
    "import warnings\n",
    "import string\n",
    "import time\n",
    "import nltk\n",
    "from sklearn.ensemble import RandomForestRegressor\n"
   ]
  },
  {
   "cell_type": "code",
   "execution_count": 2,
   "id": "85482dce",
   "metadata": {
    "execution": {
     "iopub.execute_input": "2022-08-11T10:41:15.094777Z",
     "iopub.status.busy": "2022-08-11T10:41:15.093916Z",
     "iopub.status.idle": "2022-08-11T10:41:15.561372Z",
     "shell.execute_reply": "2022-08-11T10:41:15.559955Z"
    },
    "papermill": {
     "duration": 0.480724,
     "end_time": "2022-08-11T10:41:15.564174",
     "exception": false,
     "start_time": "2022-08-11T10:41:15.083450",
     "status": "completed"
    },
    "tags": []
   },
   "outputs": [
    {
     "data": {
      "text/html": [
       "<div>\n",
       "<style scoped>\n",
       "    .dataframe tbody tr th:only-of-type {\n",
       "        vertical-align: middle;\n",
       "    }\n",
       "\n",
       "    .dataframe tbody tr th {\n",
       "        vertical-align: top;\n",
       "    }\n",
       "\n",
       "    .dataframe thead th {\n",
       "        text-align: right;\n",
       "    }\n",
       "</style>\n",
       "<table border=\"1\" class=\"dataframe\">\n",
       "  <thead>\n",
       "    <tr style=\"text-align: right;\">\n",
       "      <th></th>\n",
       "      <th>Time_submitted</th>\n",
       "      <th>Review</th>\n",
       "      <th>Rating</th>\n",
       "      <th>Total_thumbsup</th>\n",
       "      <th>Reply</th>\n",
       "    </tr>\n",
       "  </thead>\n",
       "  <tbody>\n",
       "    <tr>\n",
       "      <th>0</th>\n",
       "      <td>2022-07-09 15:00:00</td>\n",
       "      <td>Great music service, the audio is high quality...</td>\n",
       "      <td>5</td>\n",
       "      <td>2</td>\n",
       "      <td>NaN</td>\n",
       "    </tr>\n",
       "    <tr>\n",
       "      <th>1</th>\n",
       "      <td>2022-07-09 14:21:22</td>\n",
       "      <td>Please ignore previous negative rating. This a...</td>\n",
       "      <td>5</td>\n",
       "      <td>1</td>\n",
       "      <td>NaN</td>\n",
       "    </tr>\n",
       "    <tr>\n",
       "      <th>2</th>\n",
       "      <td>2022-07-09 13:27:32</td>\n",
       "      <td>This pop-up \"Get the best Spotify experience o...</td>\n",
       "      <td>4</td>\n",
       "      <td>0</td>\n",
       "      <td>NaN</td>\n",
       "    </tr>\n",
       "    <tr>\n",
       "      <th>3</th>\n",
       "      <td>2022-07-09 13:26:45</td>\n",
       "      <td>Really buggy and terrible to use as of recently</td>\n",
       "      <td>1</td>\n",
       "      <td>1</td>\n",
       "      <td>NaN</td>\n",
       "    </tr>\n",
       "    <tr>\n",
       "      <th>4</th>\n",
       "      <td>2022-07-09 13:20:49</td>\n",
       "      <td>Dear Spotify why do I get songs that I didn't ...</td>\n",
       "      <td>1</td>\n",
       "      <td>1</td>\n",
       "      <td>NaN</td>\n",
       "    </tr>\n",
       "    <tr>\n",
       "      <th>...</th>\n",
       "      <td>...</td>\n",
       "      <td>...</td>\n",
       "      <td>...</td>\n",
       "      <td>...</td>\n",
       "      <td>...</td>\n",
       "    </tr>\n",
       "    <tr>\n",
       "      <th>61589</th>\n",
       "      <td>2022-01-01 03:01:29</td>\n",
       "      <td>Even though it was communicated that lyrics fe...</td>\n",
       "      <td>1</td>\n",
       "      <td>6</td>\n",
       "      <td>NaN</td>\n",
       "    </tr>\n",
       "    <tr>\n",
       "      <th>61590</th>\n",
       "      <td>2022-01-01 02:13:40</td>\n",
       "      <td>Use to be sooo good back when I had it, and wh...</td>\n",
       "      <td>1</td>\n",
       "      <td>0</td>\n",
       "      <td>NaN</td>\n",
       "    </tr>\n",
       "    <tr>\n",
       "      <th>61591</th>\n",
       "      <td>2022-01-01 01:02:29</td>\n",
       "      <td>This app would be good if not for it taking ov...</td>\n",
       "      <td>2</td>\n",
       "      <td>10</td>\n",
       "      <td>NaN</td>\n",
       "    </tr>\n",
       "    <tr>\n",
       "      <th>61592</th>\n",
       "      <td>2022-01-01 00:49:23</td>\n",
       "      <td>The app is good hard to navigate and won't jus...</td>\n",
       "      <td>2</td>\n",
       "      <td>1</td>\n",
       "      <td>NaN</td>\n",
       "    </tr>\n",
       "    <tr>\n",
       "      <th>61593</th>\n",
       "      <td>2022-01-01 00:19:09</td>\n",
       "      <td>Its good but sometimes it doesnt load the musi...</td>\n",
       "      <td>4</td>\n",
       "      <td>0</td>\n",
       "      <td>NaN</td>\n",
       "    </tr>\n",
       "  </tbody>\n",
       "</table>\n",
       "<p>61594 rows × 5 columns</p>\n",
       "</div>"
      ],
      "text/plain": [
       "            Time_submitted                                             Review  \\\n",
       "0      2022-07-09 15:00:00  Great music service, the audio is high quality...   \n",
       "1      2022-07-09 14:21:22  Please ignore previous negative rating. This a...   \n",
       "2      2022-07-09 13:27:32  This pop-up \"Get the best Spotify experience o...   \n",
       "3      2022-07-09 13:26:45    Really buggy and terrible to use as of recently   \n",
       "4      2022-07-09 13:20:49  Dear Spotify why do I get songs that I didn't ...   \n",
       "...                    ...                                                ...   \n",
       "61589  2022-01-01 03:01:29  Even though it was communicated that lyrics fe...   \n",
       "61590  2022-01-01 02:13:40  Use to be sooo good back when I had it, and wh...   \n",
       "61591  2022-01-01 01:02:29  This app would be good if not for it taking ov...   \n",
       "61592  2022-01-01 00:49:23  The app is good hard to navigate and won't jus...   \n",
       "61593  2022-01-01 00:19:09  Its good but sometimes it doesnt load the musi...   \n",
       "\n",
       "       Rating  Total_thumbsup Reply  \n",
       "0           5               2   NaN  \n",
       "1           5               1   NaN  \n",
       "2           4               0   NaN  \n",
       "3           1               1   NaN  \n",
       "4           1               1   NaN  \n",
       "...       ...             ...   ...  \n",
       "61589       1               6   NaN  \n",
       "61590       1               0   NaN  \n",
       "61591       2              10   NaN  \n",
       "61592       2               1   NaN  \n",
       "61593       4               0   NaN  \n",
       "\n",
       "[61594 rows x 5 columns]"
      ]
     },
     "execution_count": 2,
     "metadata": {},
     "output_type": "execute_result"
    }
   ],
   "source": [
    "data = pd.read_csv(\"../input/spotify-app-reviews-2022/reviews.csv\")\n",
    "data"
   ]
  },
  {
   "cell_type": "code",
   "execution_count": 3,
   "id": "9ef403b9",
   "metadata": {
    "execution": {
     "iopub.execute_input": "2022-08-11T10:41:15.583213Z",
     "iopub.status.busy": "2022-08-11T10:41:15.582468Z",
     "iopub.status.idle": "2022-08-11T10:41:15.598943Z",
     "shell.execute_reply": "2022-08-11T10:41:15.597682Z"
    },
    "papermill": {
     "duration": 0.028554,
     "end_time": "2022-08-11T10:41:15.601663",
     "exception": false,
     "start_time": "2022-08-11T10:41:15.573109",
     "status": "completed"
    },
    "tags": []
   },
   "outputs": [
    {
     "data": {
      "text/plain": [
       "5    22095\n",
       "1    17653\n",
       "4     7842\n",
       "2     7118\n",
       "3     6886\n",
       "Name: Rating, dtype: int64"
      ]
     },
     "execution_count": 3,
     "metadata": {},
     "output_type": "execute_result"
    }
   ],
   "source": [
    "data.Rating.value_counts()"
   ]
  },
  {
   "cell_type": "code",
   "execution_count": 4,
   "id": "ce8f414b",
   "metadata": {
    "execution": {
     "iopub.execute_input": "2022-08-11T10:41:15.620028Z",
     "iopub.status.busy": "2022-08-11T10:41:15.619633Z",
     "iopub.status.idle": "2022-08-11T10:41:16.149834Z",
     "shell.execute_reply": "2022-08-11T10:41:16.148603Z"
    },
    "papermill": {
     "duration": 0.542303,
     "end_time": "2022-08-11T10:41:16.152303",
     "exception": false,
     "start_time": "2022-08-11T10:41:15.610000",
     "status": "completed"
    },
    "tags": []
   },
   "outputs": [
    {
     "data": {
      "text/plain": [
       "24628      2\n",
       "30670      2\n",
       "7083       3\n",
       "11001      3\n",
       "5731       3\n",
       "        ... \n",
       "40973    185\n",
       "26055    219\n",
       "46004    222\n",
       "20489    279\n",
       "40566    699\n",
       "Name: Review, Length: 61594, dtype: int64"
      ]
     },
     "execution_count": 4,
     "metadata": {},
     "output_type": "execute_result"
    }
   ],
   "source": [
    "data.Review.str.split().apply(lambda x: len(x)).sort_values()"
   ]
  },
  {
   "cell_type": "code",
   "execution_count": 5,
   "id": "dbfaf548",
   "metadata": {
    "execution": {
     "iopub.execute_input": "2022-08-11T10:41:16.170279Z",
     "iopub.status.busy": "2022-08-11T10:41:16.169388Z",
     "iopub.status.idle": "2022-08-11T10:41:16.176735Z",
     "shell.execute_reply": "2022-08-11T10:41:16.175495Z"
    },
    "papermill": {
     "duration": 0.018769,
     "end_time": "2022-08-11T10:41:16.179105",
     "exception": false,
     "start_time": "2022-08-11T10:41:16.160336",
     "status": "completed"
    },
    "tags": []
   },
   "outputs": [
    {
     "data": {
      "text/plain": [
       "'The player controls sometimes disappear for no reason. App restart forgets what I was playing but fixes the issue.'"
      ]
     },
     "execution_count": 5,
     "metadata": {},
     "output_type": "execute_result"
    }
   ],
   "source": [
    "# Sample text\n",
    "sample_text = data.Review[5]\n",
    "sample_text"
   ]
  },
  {
   "cell_type": "code",
   "execution_count": 6,
   "id": "149099c5",
   "metadata": {
    "execution": {
     "iopub.execute_input": "2022-08-11T10:41:16.197396Z",
     "iopub.status.busy": "2022-08-11T10:41:16.196964Z",
     "iopub.status.idle": "2022-08-11T10:41:16.205543Z",
     "shell.execute_reply": "2022-08-11T10:41:16.204338Z"
    },
    "papermill": {
     "duration": 0.020152,
     "end_time": "2022-08-11T10:41:16.207772",
     "exception": false,
     "start_time": "2022-08-11T10:41:16.187620",
     "status": "completed"
    },
    "tags": []
   },
   "outputs": [
    {
     "data": {
      "text/plain": [
       "['the',\n",
       " 'player',\n",
       " 'controls',\n",
       " 'sometimes',\n",
       " 'disappear',\n",
       " 'for',\n",
       " 'no',\n",
       " 'reason',\n",
       " '.',\n",
       " 'app',\n",
       " 'restart',\n",
       " 'forgets',\n",
       " 'what',\n",
       " 'i',\n",
       " 'was',\n",
       " 'playing',\n",
       " 'but',\n",
       " 'fixes',\n",
       " 'the',\n",
       " 'issue',\n",
       " '.']"
      ]
     },
     "execution_count": 6,
     "metadata": {},
     "output_type": "execute_result"
    }
   ],
   "source": [
    "# tokenaizer\n",
    "word_tokenaizer = nltk.WordPunctTokenizer()\n",
    "\n",
    "sample_text = sample_text.lower()\n",
    "\n",
    "sample_text_lst = word_tokenaizer.tokenize(sample_text)\n",
    "\n",
    "sample_text_lst"
   ]
  },
  {
   "cell_type": "code",
   "execution_count": 7,
   "id": "50efb8dd",
   "metadata": {
    "execution": {
     "iopub.execute_input": "2022-08-11T10:41:16.225893Z",
     "iopub.status.busy": "2022-08-11T10:41:16.225497Z",
     "iopub.status.idle": "2022-08-11T10:41:16.366611Z",
     "shell.execute_reply": "2022-08-11T10:41:16.364946Z"
    },
    "papermill": {
     "duration": 0.153208,
     "end_time": "2022-08-11T10:41:16.369101",
     "exception": false,
     "start_time": "2022-08-11T10:41:16.215893",
     "status": "completed"
    },
    "tags": []
   },
   "outputs": [
    {
     "name": "stdout",
     "output_type": "stream",
     "text": [
      "179\n"
     ]
    },
    {
     "name": "stderr",
     "output_type": "stream",
     "text": [
      "[nltk_data] Downloading package stopwords to /usr/share/nltk_data...\n",
      "[nltk_data]   Package stopwords is already up-to-date!\n"
     ]
    },
    {
     "data": {
      "text/plain": [
       "['i', 'me', 'my', 'myself', 'we', 'our', 'ours', 'ourselves', 'you', \"you're\"]"
      ]
     },
     "execution_count": 7,
     "metadata": {},
     "output_type": "execute_result"
    }
   ],
   "source": [
    "# stop words\n",
    "nltk.download('stopwords')\n",
    "stop_words = nltk.corpus.stopwords.words('english')\n",
    "print(len(stop_words))\n",
    "stop_words[:10]"
   ]
  },
  {
   "cell_type": "code",
   "execution_count": 8,
   "id": "4cd2de51",
   "metadata": {
    "execution": {
     "iopub.execute_input": "2022-08-11T10:41:16.388295Z",
     "iopub.status.busy": "2022-08-11T10:41:16.387374Z",
     "iopub.status.idle": "2022-08-11T10:41:16.395895Z",
     "shell.execute_reply": "2022-08-11T10:41:16.395046Z"
    },
    "papermill": {
     "duration": 0.020256,
     "end_time": "2022-08-11T10:41:16.397862",
     "exception": false,
     "start_time": "2022-08-11T10:41:16.377606",
     "status": "completed"
    },
    "tags": []
   },
   "outputs": [
    {
     "data": {
      "text/plain": [
       "['the',\n",
       " 'player',\n",
       " 'controls',\n",
       " 'sometimes',\n",
       " 'disappear',\n",
       " 'for',\n",
       " 'no',\n",
       " 'reason',\n",
       " 'app',\n",
       " 'restart',\n",
       " 'forgets',\n",
       " 'what',\n",
       " 'i',\n",
       " 'was',\n",
       " 'playing',\n",
       " 'but',\n",
       " 'fixes',\n",
       " 'the',\n",
       " 'issue']"
      ]
     },
     "execution_count": 8,
     "metadata": {},
     "output_type": "execute_result"
    }
   ],
   "source": [
    "import re\n",
    "\n",
    "# пунктуация. \n",
    "article_word_lst = [word for word in sample_text_lst if re.match(r'[a-zA-Z]+', word)]\n",
    "article_word_lst"
   ]
  },
  {
   "cell_type": "code",
   "execution_count": 9,
   "id": "3cf2d7bc",
   "metadata": {
    "execution": {
     "iopub.execute_input": "2022-08-11T10:41:16.418011Z",
     "iopub.status.busy": "2022-08-11T10:41:16.417357Z",
     "iopub.status.idle": "2022-08-11T10:41:16.923264Z",
     "shell.execute_reply": "2022-08-11T10:41:16.921899Z"
    },
    "papermill": {
     "duration": 0.518955,
     "end_time": "2022-08-11T10:41:16.925946",
     "exception": false,
     "start_time": "2022-08-11T10:41:16.406991",
     "status": "completed"
    },
    "tags": []
   },
   "outputs": [
    {
     "name": "stderr",
     "output_type": "stream",
     "text": [
      "[nltk_data] Downloading package wordnet to /usr/share/nltk_data...\n",
      "[nltk_data]   Package wordnet is already up-to-date!\n",
      "[nltk_data] Downloading package omw-1.4 to /usr/share/nltk_data...\n"
     ]
    },
    {
     "data": {
      "text/plain": [
       "True"
      ]
     },
     "execution_count": 9,
     "metadata": {},
     "output_type": "execute_result"
    }
   ],
   "source": [
    "nltk.download('wordnet')\n",
    "nltk.download('omw-1.4')"
   ]
  },
  {
   "cell_type": "code",
   "execution_count": 10,
   "id": "52dc9131",
   "metadata": {
    "execution": {
     "iopub.execute_input": "2022-08-11T10:41:16.945996Z",
     "iopub.status.busy": "2022-08-11T10:41:16.945221Z",
     "iopub.status.idle": "2022-08-11T10:41:18.896783Z",
     "shell.execute_reply": "2022-08-11T10:41:18.895700Z"
    },
    "papermill": {
     "duration": 1.96445,
     "end_time": "2022-08-11T10:41:18.899405",
     "exception": false,
     "start_time": "2022-08-11T10:41:16.934955",
     "status": "completed"
    },
    "tags": []
   },
   "outputs": [
    {
     "name": "stdout",
     "output_type": "stream",
     "text": [
      "the\n",
      "player\n",
      "control\n",
      "sometimes\n",
      "disappear\n",
      "for\n",
      "no\n",
      "reason\n",
      "app\n",
      "restart\n",
      "forgets\n",
      "what\n",
      "i\n",
      "wa\n",
      "playing\n",
      "but\n",
      "fix\n",
      "the\n",
      "issue\n"
     ]
    }
   ],
   "source": [
    "from nltk.stem.wordnet import WordNetLemmatizer\n",
    "\n",
    "wnl = WordNetLemmatizer()\n",
    "\n",
    "for word in article_word_lst:\n",
    "    print(wnl.lemmatize(word))"
   ]
  },
  {
   "cell_type": "code",
   "execution_count": 11,
   "id": "dc41fed3",
   "metadata": {
    "execution": {
     "iopub.execute_input": "2022-08-11T10:41:18.918977Z",
     "iopub.status.busy": "2022-08-11T10:41:18.918573Z",
     "iopub.status.idle": "2022-08-11T10:41:18.927106Z",
     "shell.execute_reply": "2022-08-11T10:41:18.926318Z"
    },
    "papermill": {
     "duration": 0.02118,
     "end_time": "2022-08-11T10:41:18.929633",
     "exception": false,
     "start_time": "2022-08-11T10:41:18.908453",
     "status": "completed"
    },
    "tags": []
   },
   "outputs": [
    {
     "name": "stdout",
     "output_type": "stream",
     "text": [
      "still extremely slow changing storage external sd card convinced done purpose spotify know issue done nothing solve time changed sd card faster read write speed samsung brand please add like song never appear search playlist \n"
     ]
    }
   ],
   "source": [
    "# full pipeline\n",
    "\n",
    "def text_processing(text):\n",
    "    \n",
    "    # нижний регистр\n",
    "    text = text.lower()\n",
    "    \n",
    "    # токенизация\n",
    "    word_list = word_tokenaizer.tokenize(text)\n",
    "    \n",
    "    #убираем, всё кроме букв и цифр.\n",
    "    word_list = [word for word in word_list if re.match(r'[a-zA-Z]+', word)]\n",
    "    \n",
    "    #убираем стоп слова\n",
    "    word_list = [word for word in word_list if word not in stop_words]\n",
    "    \n",
    "    # леммезация\n",
    "    word_list = [wnl.lemmatize(word) for word in word_list if word not in stop_words]\n",
    "    \n",
    "    out_text = ''\n",
    "    for word in word_list:\n",
    "        out_text += word + \" \" \n",
    "    \n",
    "    return out_text\n",
    "\n",
    "print(text_processing(data.Review[7]))"
   ]
  },
  {
   "cell_type": "code",
   "execution_count": 12,
   "id": "569a4286",
   "metadata": {
    "execution": {
     "iopub.execute_input": "2022-08-11T10:41:18.948765Z",
     "iopub.status.busy": "2022-08-11T10:41:18.948369Z",
     "iopub.status.idle": "2022-08-11T10:41:34.348297Z",
     "shell.execute_reply": "2022-08-11T10:41:34.347147Z"
    },
    "papermill": {
     "duration": 15.412706,
     "end_time": "2022-08-11T10:41:34.351197",
     "exception": false,
     "start_time": "2022-08-11T10:41:18.938491",
     "status": "completed"
    },
    "tags": []
   },
   "outputs": [],
   "source": [
    "data[\"lemmed_text\"] = data.Review.apply(lambda a: text_processing(a))"
   ]
  },
  {
   "cell_type": "markdown",
   "id": "2dfe59f8",
   "metadata": {
    "papermill": {
     "duration": 0.008533,
     "end_time": "2022-08-11T10:41:34.368650",
     "exception": false,
     "start_time": "2022-08-11T10:41:34.360117",
     "status": "completed"
    },
    "tags": []
   },
   "source": [
    "**Split**"
   ]
  },
  {
   "cell_type": "code",
   "execution_count": 13,
   "id": "85150ac6",
   "metadata": {
    "execution": {
     "iopub.execute_input": "2022-08-11T10:41:34.387902Z",
     "iopub.status.busy": "2022-08-11T10:41:34.387435Z",
     "iopub.status.idle": "2022-08-11T10:41:34.404799Z",
     "shell.execute_reply": "2022-08-11T10:41:34.403471Z"
    },
    "papermill": {
     "duration": 0.031048,
     "end_time": "2022-08-11T10:41:34.408327",
     "exception": false,
     "start_time": "2022-08-11T10:41:34.377279",
     "status": "completed"
    },
    "tags": []
   },
   "outputs": [
    {
     "name": "stdout",
     "output_type": "stream",
     "text": [
      "(49275,) (12319,)\n"
     ]
    }
   ],
   "source": [
    "from sklearn.model_selection import train_test_split\n",
    "X = data[\"lemmed_text\"]\n",
    "y = data[\"Rating\"]\n",
    "\n",
    "X_train, X_test, y_train, y_test = train_test_split(X, y, test_size=0.2, random_state=42)\n",
    "print(X_train.shape, X_test.shape)"
   ]
  },
  {
   "cell_type": "markdown",
   "id": "d6f604f9",
   "metadata": {
    "papermill": {
     "duration": 0.008471,
     "end_time": "2022-08-11T10:41:34.426639",
     "exception": false,
     "start_time": "2022-08-11T10:41:34.418168",
     "status": "completed"
    },
    "tags": []
   },
   "source": [
    "# tf-idf + Linear Model"
   ]
  },
  {
   "cell_type": "code",
   "execution_count": 14,
   "id": "d2333b26",
   "metadata": {
    "execution": {
     "iopub.execute_input": "2022-08-11T10:41:34.446282Z",
     "iopub.status.busy": "2022-08-11T10:41:34.445485Z",
     "iopub.status.idle": "2022-08-11T10:41:35.282441Z",
     "shell.execute_reply": "2022-08-11T10:41:35.281539Z"
    },
    "papermill": {
     "duration": 0.84929,
     "end_time": "2022-08-11T10:41:35.284615",
     "exception": false,
     "start_time": "2022-08-11T10:41:34.435325",
     "status": "completed"
    },
    "tags": []
   },
   "outputs": [
    {
     "name": "stderr",
     "output_type": "stream",
     "text": [
      "/opt/conda/lib/python3.7/site-packages/sklearn/utils/deprecation.py:87: FutureWarning: Function get_feature_names is deprecated; get_feature_names is deprecated in 1.0 and will be removed in 1.2. Please use get_feature_names_out instead.\n",
      "  warnings.warn(msg, category=FutureWarning)\n"
     ]
    },
    {
     "data": {
      "text/plain": [
       "['aap',\n",
       " 'ability',\n",
       " 'able',\n",
       " 'absolute',\n",
       " 'absolutely',\n",
       " 'absurd',\n",
       " 'acc',\n",
       " 'accept',\n",
       " 'acceptable',\n",
       " 'access']"
      ]
     },
     "execution_count": 14,
     "metadata": {},
     "output_type": "execute_result"
    }
   ],
   "source": [
    "#Вычисляем tf-idf\n",
    "from sklearn.feature_extraction.text import TfidfVectorizer\n",
    "\n",
    "vect = TfidfVectorizer(max_features = 2000, norm=None)\n",
    "vect.fit(X_train)\n",
    "\n",
    "vect.get_feature_names()[:10]"
   ]
  },
  {
   "cell_type": "code",
   "execution_count": 15,
   "id": "be36b98d",
   "metadata": {
    "execution": {
     "iopub.execute_input": "2022-08-11T10:41:35.304923Z",
     "iopub.status.busy": "2022-08-11T10:41:35.303790Z",
     "iopub.status.idle": "2022-08-11T10:41:36.326539Z",
     "shell.execute_reply": "2022-08-11T10:41:36.325296Z"
    },
    "papermill": {
     "duration": 1.035673,
     "end_time": "2022-08-11T10:41:36.329281",
     "exception": false,
     "start_time": "2022-08-11T10:41:35.293608",
     "status": "completed"
    },
    "tags": []
   },
   "outputs": [],
   "source": [
    "train_texts_vect = vect.fit_transform(X_train)\n",
    "test_texts_vect = vect.transform(X_test)"
   ]
  },
  {
   "cell_type": "code",
   "execution_count": 16,
   "id": "2b5f9017",
   "metadata": {
    "execution": {
     "iopub.execute_input": "2022-08-11T10:41:36.349505Z",
     "iopub.status.busy": "2022-08-11T10:41:36.349103Z",
     "iopub.status.idle": "2022-08-11T10:42:39.734777Z",
     "shell.execute_reply": "2022-08-11T10:42:39.724474Z"
    },
    "papermill": {
     "duration": 63.417911,
     "end_time": "2022-08-11T10:42:39.756626",
     "exception": false,
     "start_time": "2022-08-11T10:41:36.338715",
     "status": "completed"
    },
    "tags": []
   },
   "outputs": [
    {
     "name": "stdout",
     "output_type": "stream",
     "text": [
      "{'alpha': 0.003} -1.174693964488306\n"
     ]
    }
   ],
   "source": [
    "from sklearn.metrics import mean_squared_error\n",
    "from sklearn.metrics import mean_absolute_error\n",
    "\n",
    "from sklearn.model_selection import GridSearchCV\n",
    "from sklearn import linear_model\n",
    "\n",
    "model = linear_model.Lasso(alpha=0.1)\n",
    "\n",
    "parameters = {'alpha': [0.0005, 0.001, 0.003, 0.005]}\n",
    "\n",
    "lmr = GridSearchCV(model, parameters, cv=3, scoring='neg_root_mean_squared_error')\n",
    "\n",
    "lmr.fit(train_texts_vect, y_train)\n",
    "\n",
    "print(lmr.best_params_, lmr.best_score_)"
   ]
  },
  {
   "cell_type": "code",
   "execution_count": 17,
   "id": "da2a9805",
   "metadata": {
    "execution": {
     "iopub.execute_input": "2022-08-11T10:42:39.806963Z",
     "iopub.status.busy": "2022-08-11T10:42:39.806244Z",
     "iopub.status.idle": "2022-08-11T10:42:39.836081Z",
     "shell.execute_reply": "2022-08-11T10:42:39.834490Z"
    },
    "papermill": {
     "duration": 0.06043,
     "end_time": "2022-08-11T10:42:39.840856",
     "exception": false,
     "start_time": "2022-08-11T10:42:39.780426",
     "status": "completed"
    },
    "tags": []
   },
   "outputs": [
    {
     "name": "stdout",
     "output_type": "stream",
     "text": [
      "Train RMSE: 1.151951673623144 Train MAE: 0.9526137679749629\n",
      "Test RMSE: 1.1695083566347775 Test MAE: 0.9717219550305707\n"
     ]
    }
   ],
   "source": [
    "pred_train = lmr.predict(train_texts_vect)\n",
    "pred_test = lmr.predict(test_texts_vect)\n",
    "\n",
    "\n",
    "print(\"Train RMSE:\", mean_squared_error(pred_train, y_train, squared=False), \"Train MAE:\", mean_absolute_error(pred_train, y_train))\n",
    "print(\"Test RMSE:\", mean_squared_error(pred_test, y_test, squared=False), \"Test MAE:\", mean_absolute_error(pred_test, y_test))"
   ]
  },
  {
   "cell_type": "code",
   "execution_count": 18,
   "id": "fe9e6a98",
   "metadata": {
    "execution": {
     "iopub.execute_input": "2022-08-11T10:42:39.862475Z",
     "iopub.status.busy": "2022-08-11T10:42:39.862084Z",
     "iopub.status.idle": "2022-08-11T10:42:39.881878Z",
     "shell.execute_reply": "2022-08-11T10:42:39.880599Z"
    },
    "papermill": {
     "duration": 0.03313,
     "end_time": "2022-08-11T10:42:39.884316",
     "exception": false,
     "start_time": "2022-08-11T10:42:39.851186",
     "status": "completed"
    },
    "tags": []
   },
   "outputs": [
    {
     "name": "stderr",
     "output_type": "stream",
     "text": [
      "/opt/conda/lib/python3.7/site-packages/sklearn/utils/deprecation.py:87: FutureWarning: Function get_feature_names is deprecated; get_feature_names is deprecated in 1.0 and will be removed in 1.2. Please use get_feature_names_out instead.\n",
      "  warnings.warn(msg, category=FutureWarning)\n"
     ]
    },
    {
     "data": {
      "text/html": [
       "<div>\n",
       "<style scoped>\n",
       "    .dataframe tbody tr th:only-of-type {\n",
       "        vertical-align: middle;\n",
       "    }\n",
       "\n",
       "    .dataframe tbody tr th {\n",
       "        vertical-align: top;\n",
       "    }\n",
       "\n",
       "    .dataframe thead th {\n",
       "        text-align: right;\n",
       "    }\n",
       "</style>\n",
       "<table border=\"1\" class=\"dataframe\">\n",
       "  <thead>\n",
       "    <tr style=\"text-align: right;\">\n",
       "      <th></th>\n",
       "      <th>word</th>\n",
       "      <th>coef</th>\n",
       "    </tr>\n",
       "  </thead>\n",
       "  <tbody>\n",
       "    <tr>\n",
       "      <th>174</th>\n",
       "      <td>best</td>\n",
       "      <td>0.224871</td>\n",
       "    </tr>\n",
       "    <tr>\n",
       "      <th>1025</th>\n",
       "      <td>love</td>\n",
       "      <td>0.214433</td>\n",
       "    </tr>\n",
       "    <tr>\n",
       "      <th>743</th>\n",
       "      <td>great</td>\n",
       "      <td>0.183107</td>\n",
       "    </tr>\n",
       "    <tr>\n",
       "      <th>69</th>\n",
       "      <td>amazing</td>\n",
       "      <td>0.154244</td>\n",
       "    </tr>\n",
       "    <tr>\n",
       "      <th>138</th>\n",
       "      <td>awesome</td>\n",
       "      <td>0.148019</td>\n",
       "    </tr>\n",
       "    <tr>\n",
       "      <th>...</th>\n",
       "      <td>...</td>\n",
       "      <td>...</td>\n",
       "    </tr>\n",
       "    <tr>\n",
       "      <th>1760</th>\n",
       "      <td>terrible</td>\n",
       "      <td>-0.109746</td>\n",
       "    </tr>\n",
       "    <tr>\n",
       "      <th>983</th>\n",
       "      <td>lisa</td>\n",
       "      <td>-0.113654</td>\n",
       "    </tr>\n",
       "    <tr>\n",
       "      <th>1814</th>\n",
       "      <td>trash</td>\n",
       "      <td>-0.115710</td>\n",
       "    </tr>\n",
       "    <tr>\n",
       "      <th>1091</th>\n",
       "      <td>misinformation</td>\n",
       "      <td>-0.152887</td>\n",
       "    </tr>\n",
       "    <tr>\n",
       "      <th>1972</th>\n",
       "      <td>worst</td>\n",
       "      <td>-0.157648</td>\n",
       "    </tr>\n",
       "  </tbody>\n",
       "</table>\n",
       "<p>2000 rows × 2 columns</p>\n",
       "</div>"
      ],
      "text/plain": [
       "                word      coef\n",
       "174             best  0.224871\n",
       "1025            love  0.214433\n",
       "743            great  0.183107\n",
       "69           amazing  0.154244\n",
       "138          awesome  0.148019\n",
       "...              ...       ...\n",
       "1760        terrible -0.109746\n",
       "983             lisa -0.113654\n",
       "1814           trash -0.115710\n",
       "1091  misinformation -0.152887\n",
       "1972           worst -0.157648\n",
       "\n",
       "[2000 rows x 2 columns]"
      ]
     },
     "execution_count": 18,
     "metadata": {},
     "output_type": "execute_result"
    }
   ],
   "source": [
    "word_score = pd.DataFrame(vect.get_feature_names(), columns=['word'])\n",
    "word_score['coef'] = lmr.best_estimator_.coef_\n",
    "word_score.sort_values(\"coef\", ascending=False)"
   ]
  },
  {
   "cell_type": "markdown",
   "id": "c25d31f0",
   "metadata": {
    "papermill": {
     "duration": 0.009195,
     "end_time": "2022-08-11T10:42:39.902959",
     "exception": false,
     "start_time": "2022-08-11T10:42:39.893764",
     "status": "completed"
    },
    "tags": []
   },
   "source": [
    "# Word2Vec"
   ]
  },
  {
   "cell_type": "code",
   "execution_count": 19,
   "id": "5bd18866",
   "metadata": {
    "execution": {
     "iopub.execute_input": "2022-08-11T10:42:39.924229Z",
     "iopub.status.busy": "2022-08-11T10:42:39.923854Z",
     "iopub.status.idle": "2022-08-11T10:42:40.118068Z",
     "shell.execute_reply": "2022-08-11T10:42:40.116980Z"
    },
    "papermill": {
     "duration": 0.208603,
     "end_time": "2022-08-11T10:42:40.120829",
     "exception": false,
     "start_time": "2022-08-11T10:42:39.912226",
     "status": "completed"
    },
    "tags": []
   },
   "outputs": [],
   "source": [
    "from gensim.models import Word2Vec\n",
    "#model = Word2Vec(sentences=X_train, vector_size=100, window=5, min_count=1, workers=4)"
   ]
  },
  {
   "cell_type": "code",
   "execution_count": 20,
   "id": "016fa2e6",
   "metadata": {
    "execution": {
     "iopub.execute_input": "2022-08-11T10:42:40.141732Z",
     "iopub.status.busy": "2022-08-11T10:42:40.141338Z",
     "iopub.status.idle": "2022-08-11T10:43:29.549817Z",
     "shell.execute_reply": "2022-08-11T10:43:29.548474Z"
    },
    "papermill": {
     "duration": 49.422418,
     "end_time": "2022-08-11T10:43:29.553024",
     "exception": false,
     "start_time": "2022-08-11T10:42:40.130606",
     "status": "completed"
    },
    "tags": []
   },
   "outputs": [
    {
     "name": "stdout",
     "output_type": "stream",
     "text": [
      "['fasttext-wiki-news-subwords-300', 'conceptnet-numberbatch-17-06-300', 'word2vec-ruscorpora-300', 'word2vec-google-news-300', 'glove-wiki-gigaword-50', 'glove-wiki-gigaword-100', 'glove-wiki-gigaword-200', 'glove-wiki-gigaword-300', 'glove-twitter-25', 'glove-twitter-50', 'glove-twitter-100', 'glove-twitter-200', '__testing_word2vec-matrix-synopsis']\n",
      "[==================================================] 100.0% 128.1/128.1MB downloaded\n"
     ]
    }
   ],
   "source": [
    "import gensim.downloader\n",
    "print(list(gensim.downloader.info()['models'].keys()))\n",
    "glove_vectors = gensim.downloader.load('glove-wiki-gigaword-100')"
   ]
  },
  {
   "cell_type": "markdown",
   "id": "157bc2fb",
   "metadata": {
    "papermill": {
     "duration": 1.058034,
     "end_time": "2022-08-11T10:43:31.707185",
     "exception": false,
     "start_time": "2022-08-11T10:43:30.649151",
     "status": "completed"
    },
    "tags": []
   },
   "source": [
    "**Word2vec + RandomForest**"
   ]
  },
  {
   "cell_type": "code",
   "execution_count": 21,
   "id": "0d98e83a",
   "metadata": {
    "execution": {
     "iopub.execute_input": "2022-08-11T10:43:33.760686Z",
     "iopub.status.busy": "2022-08-11T10:43:33.759773Z",
     "iopub.status.idle": "2022-08-11T10:43:33.766330Z",
     "shell.execute_reply": "2022-08-11T10:43:33.765479Z"
    },
    "papermill": {
     "duration": 1.061848,
     "end_time": "2022-08-11T10:43:33.768697",
     "exception": false,
     "start_time": "2022-08-11T10:43:32.706849",
     "status": "completed"
    },
    "tags": []
   },
   "outputs": [],
   "source": [
    "def buildWordVector(tokens, size, w2v_model):\n",
    "    vec = np.zeros(size).reshape((1, size))\n",
    "    count = 0.\n",
    "    \n",
    "    for word in tokens:\n",
    "        #print(word)\n",
    "        try:\n",
    "            vec += w2v_model[word].reshape((1, size)) #* tfidf[word]  vect\n",
    "            count += 1.\n",
    "        except KeyError: # handling the case where the token is not\n",
    "                         # in the corpus. useful for testing.\n",
    "            continue\n",
    "    if count != 0:\n",
    "        vec /= count\n",
    "    return vec"
   ]
  },
  {
   "cell_type": "code",
   "execution_count": 22,
   "id": "9f007997",
   "metadata": {
    "execution": {
     "iopub.execute_input": "2022-08-11T10:43:35.817813Z",
     "iopub.status.busy": "2022-08-11T10:43:35.816638Z",
     "iopub.status.idle": "2022-08-11T10:43:40.639348Z",
     "shell.execute_reply": "2022-08-11T10:43:40.638001Z"
    },
    "papermill": {
     "duration": 5.880833,
     "end_time": "2022-08-11T10:43:40.642238",
     "exception": false,
     "start_time": "2022-08-11T10:43:34.761405",
     "status": "completed"
    },
    "tags": []
   },
   "outputs": [],
   "source": [
    "train_vecs_w2v = np.concatenate([buildWordVector(z, 100, glove_vectors) for z in [text.split(\" \") for text in X_train.values]])\n",
    "\n",
    "test_vecs_w2v = np.concatenate([buildWordVector(z, 100, glove_vectors) for z in [text.split(\" \") for text in X_test.values]])"
   ]
  },
  {
   "cell_type": "code",
   "execution_count": 23,
   "id": "44a24b35",
   "metadata": {
    "execution": {
     "iopub.execute_input": "2022-08-11T10:43:42.682875Z",
     "iopub.status.busy": "2022-08-11T10:43:42.682441Z",
     "iopub.status.idle": "2022-08-11T10:43:42.690770Z",
     "shell.execute_reply": "2022-08-11T10:43:42.689833Z"
    },
    "papermill": {
     "duration": 0.998141,
     "end_time": "2022-08-11T10:43:42.692872",
     "exception": false,
     "start_time": "2022-08-11T10:43:41.694731",
     "status": "completed"
    },
    "tags": []
   },
   "outputs": [
    {
     "data": {
      "text/plain": [
       "\"\\nfrom sklearn.ensemble import RandomForestRegressor\\nmodel = RandomForestRegressor()\\nparameters = {'n_estimators': [15,30,50]}\\nrfg = GridSearchCV(model, parameters, cv=2, scoring='neg_root_mean_squared_error', verbose=3)\\nrfg.fit(train_vecs_w2v, y_train)\\nprint(rfg.best_params_, rfg.best_score_)\\n\""
      ]
     },
     "execution_count": 23,
     "metadata": {},
     "output_type": "execute_result"
    }
   ],
   "source": [
    "'''\n",
    "from sklearn.ensemble import RandomForestRegressor\n",
    "model = RandomForestRegressor()\n",
    "parameters = {'n_estimators': [15,30,50]}\n",
    "rfg = GridSearchCV(model, parameters, cv=2, scoring='neg_root_mean_squared_error', verbose=3)\n",
    "rfg.fit(train_vecs_w2v, y_train)\n",
    "print(rfg.best_params_, rfg.best_score_)\n",
    "'''"
   ]
  },
  {
   "cell_type": "code",
   "execution_count": 24,
   "id": "2348936e",
   "metadata": {
    "execution": {
     "iopub.execute_input": "2022-08-11T10:43:44.796772Z",
     "iopub.status.busy": "2022-08-11T10:43:44.796383Z",
     "iopub.status.idle": "2022-08-11T10:48:29.726300Z",
     "shell.execute_reply": "2022-08-11T10:48:29.725069Z"
    },
    "papermill": {
     "duration": 287.033551,
     "end_time": "2022-08-11T10:48:30.780210",
     "exception": false,
     "start_time": "2022-08-11T10:43:43.746659",
     "status": "completed"
    },
    "tags": []
   },
   "outputs": [
    {
     "name": "stdout",
     "output_type": "stream",
     "text": [
      "Train RMSE: 0.4745515548799043 Train MAE: 0.37326727190723585\n",
      "Test RMSE: 1.2228003477562537 Test MAE: 0.9945488899325886\n"
     ]
    }
   ],
   "source": [
    "rfg = RandomForestRegressor(n_estimators = 50)\n",
    "\n",
    "rfg.fit(train_vecs_w2v, y_train)\n",
    "\n",
    "pred_train = rfg.predict(train_vecs_w2v)\n",
    "pred_test = rfg.predict(test_vecs_w2v)\n",
    "\n",
    "\n",
    "print(\"Train RMSE:\", mean_squared_error(pred_train, y_train, squared=False), \"Train MAE:\", mean_absolute_error(pred_train, y_train))\n",
    "print(\"Test RMSE:\", mean_squared_error(pred_test, y_test, squared=False), \"Test MAE:\", mean_absolute_error(pred_test, y_test))"
   ]
  },
  {
   "cell_type": "markdown",
   "id": "f38f532b",
   "metadata": {
    "papermill": {
     "duration": 1.063669,
     "end_time": "2022-08-11T10:48:32.830388",
     "exception": false,
     "start_time": "2022-08-11T10:48:31.766719",
     "status": "completed"
    },
    "tags": []
   },
   "source": [
    "**Word2vec + tf-idf + RandomForest**"
   ]
  },
  {
   "cell_type": "code",
   "execution_count": 25,
   "id": "8e8fe210",
   "metadata": {
    "execution": {
     "iopub.execute_input": "2022-08-11T10:48:34.865228Z",
     "iopub.status.busy": "2022-08-11T10:48:34.864186Z",
     "iopub.status.idle": "2022-08-11T10:48:34.871370Z",
     "shell.execute_reply": "2022-08-11T10:48:34.870246Z"
    },
    "papermill": {
     "duration": 1.057604,
     "end_time": "2022-08-11T10:48:34.873799",
     "exception": false,
     "start_time": "2022-08-11T10:48:33.816195",
     "status": "completed"
    },
    "tags": []
   },
   "outputs": [],
   "source": [
    "def buildWordVectorTFIDF(tokens, size, w2v_model):\n",
    "    vec = np.zeros(size).reshape((1, size))\n",
    "    count = 0.\n",
    "    \n",
    "    for word in tokens:\n",
    "        #print(word)\n",
    "        try:\n",
    "            vec += w2v_model[word].reshape((1, size)) * vect.vocabulary_[word]  \n",
    "            count += 1.\n",
    "        except KeyError: # handling the case where the token is not\n",
    "                         # in the corpus. useful for testing.\n",
    "            continue\n",
    "    if count != 0:\n",
    "        vec /= count\n",
    "    return vec"
   ]
  },
  {
   "cell_type": "code",
   "execution_count": 26,
   "id": "5cb36f20",
   "metadata": {
    "execution": {
     "iopub.execute_input": "2022-08-11T10:48:37.082628Z",
     "iopub.status.busy": "2022-08-11T10:48:37.081420Z",
     "iopub.status.idle": "2022-08-11T10:48:44.336819Z",
     "shell.execute_reply": "2022-08-11T10:48:44.335588Z"
    },
    "papermill": {
     "duration": 8.38853,
     "end_time": "2022-08-11T10:48:44.339588",
     "exception": false,
     "start_time": "2022-08-11T10:48:35.951058",
     "status": "completed"
    },
    "tags": []
   },
   "outputs": [],
   "source": [
    "train_vecs_w2v_tfidf = np.concatenate([buildWordVectorTFIDF(z, 100, glove_vectors) for z in [text.split(\" \") for text in X_train.values]])\n",
    "\n",
    "test_vecs_w2v_tfidf = np.concatenate([buildWordVectorTFIDF(z, 100, glove_vectors) for z in [text.split(\" \") for text in X_test.values]])"
   ]
  },
  {
   "cell_type": "code",
   "execution_count": 27,
   "id": "d9e0ce9d",
   "metadata": {
    "execution": {
     "iopub.execute_input": "2022-08-11T10:48:46.393830Z",
     "iopub.status.busy": "2022-08-11T10:48:46.393387Z",
     "iopub.status.idle": "2022-08-11T10:53:15.960350Z",
     "shell.execute_reply": "2022-08-11T10:53:15.959260Z"
    },
    "papermill": {
     "duration": 271.681659,
     "end_time": "2022-08-11T10:53:16.999903",
     "exception": false,
     "start_time": "2022-08-11T10:48:45.318244",
     "status": "completed"
    },
    "tags": []
   },
   "outputs": [
    {
     "name": "stdout",
     "output_type": "stream",
     "text": [
      "Train RMSE: 0.4930068216201712 Train MAE: 0.3939987463938248\n",
      "Test RMSE: 1.2681400374348575 Test MAE: 1.0476850704680447\n"
     ]
    }
   ],
   "source": [
    "rfg = RandomForestRegressor(n_estimators = 50)\n",
    "\n",
    "rfg.fit(train_vecs_w2v_tfidf, y_train)\n",
    "\n",
    "pred_train = rfg.predict(train_vecs_w2v_tfidf)\n",
    "pred_test = rfg.predict(test_vecs_w2v_tfidf)\n",
    "\n",
    "\n",
    "print(\"Train RMSE:\", mean_squared_error(pred_train, y_train, squared=False), \"Train MAE:\", mean_absolute_error(pred_train, y_train))\n",
    "print(\"Test RMSE:\", mean_squared_error(pred_test, y_test, squared=False), \"Test MAE:\", mean_absolute_error(pred_test, y_test))"
   ]
  }
 ],
 "metadata": {
  "kernelspec": {
   "display_name": "Python 3",
   "language": "python",
   "name": "python3"
  },
  "language_info": {
   "codemirror_mode": {
    "name": "ipython",
    "version": 3
   },
   "file_extension": ".py",
   "mimetype": "text/x-python",
   "name": "python",
   "nbconvert_exporter": "python",
   "pygments_lexer": "ipython3",
   "version": "3.7.12"
  },
  "papermill": {
   "default_parameters": {},
   "duration": 735.225404,
   "end_time": "2022-08-11T10:53:19.066077",
   "environment_variables": {},
   "exception": null,
   "input_path": "__notebook__.ipynb",
   "output_path": "__notebook__.ipynb",
   "parameters": {},
   "start_time": "2022-08-11T10:41:03.840673",
   "version": "2.3.4"
  }
 },
 "nbformat": 4,
 "nbformat_minor": 5
}
