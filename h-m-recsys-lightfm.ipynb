{
 "cells": [
  {
   "cell_type": "code",
   "execution_count": 1,
   "id": "bca99a40",
   "metadata": {
    "_cell_guid": "b1076dfc-b9ad-4769-8c92-a6c4dae69d19",
    "_uuid": "8f2839f25d086af736a60e9eeb907d3b93b6e0e5",
    "execution": {
     "iopub.execute_input": "2022-06-29T13:29:49.883209Z",
     "iopub.status.busy": "2022-06-29T13:29:49.882453Z",
     "iopub.status.idle": "2022-06-29T13:29:51.335623Z",
     "shell.execute_reply": "2022-06-29T13:29:51.334493Z"
    },
    "papermill": {
     "duration": 1.473411,
     "end_time": "2022-06-29T13:29:51.339279",
     "exception": false,
     "start_time": "2022-06-29T13:29:49.865868",
     "status": "completed"
    },
    "tags": []
   },
   "outputs": [],
   "source": [
    "import numpy as np # linear algebra\n",
    "import pandas as pd # data processing, CSV file I/O (e.g. pd.read_csv)\n",
    "import matplotlib.pyplot as plt # for plotting the data \n",
    "import seaborn as sns # Advanced data plotting on top of matplotlib\n",
    "import os\n",
    "\n",
    "\n",
    "from sklearn.model_selection import train_test_split\n",
    "from sklearn.metrics import mean_squared_error\n",
    "from sklearn.metrics import classification_report\n",
    "from sklearn.metrics import f1_score\n",
    "from sklearn.metrics import accuracy_score"
   ]
  },
  {
   "cell_type": "code",
   "execution_count": 2,
   "id": "4decafa2",
   "metadata": {
    "execution": {
     "iopub.execute_input": "2022-06-29T13:29:51.359000Z",
     "iopub.status.busy": "2022-06-29T13:29:51.358496Z",
     "iopub.status.idle": "2022-06-29T13:29:51.363820Z",
     "shell.execute_reply": "2022-06-29T13:29:51.362583Z"
    },
    "papermill": {
     "duration": 0.018085,
     "end_time": "2022-06-29T13:29:51.366290",
     "exception": false,
     "start_time": "2022-06-29T13:29:51.348205",
     "status": "completed"
    },
    "tags": []
   },
   "outputs": [],
   "source": [
    "#for dirname, _, filenames in os.walk('/kaggle/input'):\n",
    "#    for filename in filenames:\n",
    "#        print(os.path.join(dirname, filename))\n",
    "#/kaggle/input/h-and-m-personalized-fashion-recommendations/sample_submission.csv\n",
    "#/kaggle/input/h-and-m-personalized-fashion-recommendations/articles.csv\n",
    "#/kaggle/input/h-and-m-personalized-fashion-recommendations/transactions_train.csv\n",
    "#/kaggle/input/h-and-m-personalized-fashion-recommendations/customers.csv    "
   ]
  },
  {
   "cell_type": "markdown",
   "id": "258066c6",
   "metadata": {
    "papermill": {
     "duration": 0.008327,
     "end_time": "2022-06-29T13:29:51.382916",
     "exception": false,
     "start_time": "2022-06-29T13:29:51.374589",
     "status": "completed"
    },
    "tags": []
   },
   "source": [
    "**About data**\n",
    "\n",
    "*images* - a folder of images corresponding to each article_id; images are placed in subfolders starting with the first three digits of the article_id; note, not all article_id values have a corresponding image.\n",
    "\n",
    "*articles.csv* - detailed metadata for each article_id available for purchase\n",
    "\n",
    "*customers.csv* - metadata for each customer_id in dataset\n",
    "\n",
    "*sample_submission.csv* - a sample submission file in the correct format\n",
    "\n",
    "*transactions_train.csv* - the training data, consisting of the purchases each customer for each date, as well as additional information. Duplicate rows correspond to multiple purchases of the same item. Your task is to predict the article_ids each customer will purchase during the 7-day period immediately after the training data period.\n",
    "\n",
    "*target*: Make predictions for all customer_id values found in the sample submission. All customers who made purchases during the test period are scored, regardless of whether they had purchase history in the training data.\n",
    "\n",
    "Submissions are evaluated according to the Mean Average Precision @ 12 (MAP@12).\n",
    "For each customer_id observed in the training data, you may predict up to 12 labels for the article_id, which is the predicted items a customer will buy in the next 7-day period after the training time period. "
   ]
  },
  {
   "cell_type": "markdown",
   "id": "ed804c8e",
   "metadata": {
    "papermill": {
     "duration": 0.007756,
     "end_time": "2022-06-29T13:29:51.398939",
     "exception": false,
     "start_time": "2022-06-29T13:29:51.391183",
     "status": "completed"
    },
    "tags": []
   },
   "source": [
    "# EDA"
   ]
  },
  {
   "cell_type": "code",
   "execution_count": 3,
   "id": "c34baf20",
   "metadata": {
    "execution": {
     "iopub.execute_input": "2022-06-29T13:29:51.417925Z",
     "iopub.status.busy": "2022-06-29T13:29:51.417030Z",
     "iopub.status.idle": "2022-06-29T13:29:51.421707Z",
     "shell.execute_reply": "2022-06-29T13:29:51.420718Z"
    },
    "papermill": {
     "duration": 0.017024,
     "end_time": "2022-06-29T13:29:51.424053",
     "exception": false,
     "start_time": "2022-06-29T13:29:51.407029",
     "status": "completed"
    },
    "tags": []
   },
   "outputs": [],
   "source": [
    "#customers_df = pd.read_csv(\"/kaggle/input/h-and-m-personalized-fashion-recommendations/customers.csv\")\n",
    "#sample_submission = pd.read_csv(\"/kaggle/input/h-and-m-personalized-fashion-recommendations/sample_submission.csv\" )\n",
    "#customers_df.head()"
   ]
  },
  {
   "cell_type": "code",
   "execution_count": 4,
   "id": "d8b30859",
   "metadata": {
    "execution": {
     "iopub.execute_input": "2022-06-29T13:29:51.443600Z",
     "iopub.status.busy": "2022-06-29T13:29:51.442431Z",
     "iopub.status.idle": "2022-06-29T13:31:07.910765Z",
     "shell.execute_reply": "2022-06-29T13:31:07.908989Z"
    },
    "papermill": {
     "duration": 76.497735,
     "end_time": "2022-06-29T13:31:07.930023",
     "exception": false,
     "start_time": "2022-06-29T13:29:51.432288",
     "status": "completed"
    },
    "tags": []
   },
   "outputs": [
    {
     "name": "stdout",
     "output_type": "stream",
     "text": [
      "(31788324, 5)\n"
     ]
    },
    {
     "data": {
      "text/html": [
       "<div>\n",
       "<style scoped>\n",
       "    .dataframe tbody tr th:only-of-type {\n",
       "        vertical-align: middle;\n",
       "    }\n",
       "\n",
       "    .dataframe tbody tr th {\n",
       "        vertical-align: top;\n",
       "    }\n",
       "\n",
       "    .dataframe thead th {\n",
       "        text-align: right;\n",
       "    }\n",
       "</style>\n",
       "<table border=\"1\" class=\"dataframe\">\n",
       "  <thead>\n",
       "    <tr style=\"text-align: right;\">\n",
       "      <th></th>\n",
       "      <th>t_dat</th>\n",
       "      <th>customer_id</th>\n",
       "      <th>article_id</th>\n",
       "      <th>price</th>\n",
       "      <th>sales_channel_id</th>\n",
       "    </tr>\n",
       "  </thead>\n",
       "  <tbody>\n",
       "    <tr>\n",
       "      <th>0</th>\n",
       "      <td>2018-09-20</td>\n",
       "      <td>000058a12d5b43e67d225668fa1f8d618c13dc232df0ca...</td>\n",
       "      <td>663713001</td>\n",
       "      <td>0.050831</td>\n",
       "      <td>2</td>\n",
       "    </tr>\n",
       "    <tr>\n",
       "      <th>1</th>\n",
       "      <td>2018-09-20</td>\n",
       "      <td>000058a12d5b43e67d225668fa1f8d618c13dc232df0ca...</td>\n",
       "      <td>541518023</td>\n",
       "      <td>0.030492</td>\n",
       "      <td>2</td>\n",
       "    </tr>\n",
       "    <tr>\n",
       "      <th>2</th>\n",
       "      <td>2018-09-20</td>\n",
       "      <td>00007d2de826758b65a93dd24ce629ed66842531df6699...</td>\n",
       "      <td>505221004</td>\n",
       "      <td>0.015237</td>\n",
       "      <td>2</td>\n",
       "    </tr>\n",
       "    <tr>\n",
       "      <th>3</th>\n",
       "      <td>2018-09-20</td>\n",
       "      <td>00007d2de826758b65a93dd24ce629ed66842531df6699...</td>\n",
       "      <td>685687003</td>\n",
       "      <td>0.016932</td>\n",
       "      <td>2</td>\n",
       "    </tr>\n",
       "    <tr>\n",
       "      <th>4</th>\n",
       "      <td>2018-09-20</td>\n",
       "      <td>00007d2de826758b65a93dd24ce629ed66842531df6699...</td>\n",
       "      <td>685687004</td>\n",
       "      <td>0.016932</td>\n",
       "      <td>2</td>\n",
       "    </tr>\n",
       "  </tbody>\n",
       "</table>\n",
       "</div>"
      ],
      "text/plain": [
       "        t_dat                                        customer_id  article_id  \\\n",
       "0  2018-09-20  000058a12d5b43e67d225668fa1f8d618c13dc232df0ca...   663713001   \n",
       "1  2018-09-20  000058a12d5b43e67d225668fa1f8d618c13dc232df0ca...   541518023   \n",
       "2  2018-09-20  00007d2de826758b65a93dd24ce629ed66842531df6699...   505221004   \n",
       "3  2018-09-20  00007d2de826758b65a93dd24ce629ed66842531df6699...   685687003   \n",
       "4  2018-09-20  00007d2de826758b65a93dd24ce629ed66842531df6699...   685687004   \n",
       "\n",
       "      price  sales_channel_id  \n",
       "0  0.050831                 2  \n",
       "1  0.030492                 2  \n",
       "2  0.015237                 2  \n",
       "3  0.016932                 2  \n",
       "4  0.016932                 2  "
      ]
     },
     "execution_count": 4,
     "metadata": {},
     "output_type": "execute_result"
    }
   ],
   "source": [
    "transactions_df = pd.read_csv(\"/kaggle/input/h-and-m-personalized-fashion-recommendations/transactions_train.csv\")#, nrow=10000)\n",
    "print(transactions_df.shape)\n",
    "transactions_df.head()"
   ]
  },
  {
   "cell_type": "code",
   "execution_count": 5,
   "id": "5b100d2b",
   "metadata": {
    "execution": {
     "iopub.execute_input": "2022-06-29T13:31:07.951109Z",
     "iopub.status.busy": "2022-06-29T13:31:07.950215Z",
     "iopub.status.idle": "2022-06-29T13:31:07.963424Z",
     "shell.execute_reply": "2022-06-29T13:31:07.962217Z"
    },
    "papermill": {
     "duration": 0.026944,
     "end_time": "2022-06-29T13:31:07.965983",
     "exception": false,
     "start_time": "2022-06-29T13:31:07.939039",
     "status": "completed"
    },
    "tags": []
   },
   "outputs": [
    {
     "data": {
      "text/plain": [
       "(100000, 5)"
      ]
     },
     "execution_count": 5,
     "metadata": {},
     "output_type": "execute_result"
    }
   ],
   "source": [
    "# let's takr peace of data\n",
    "transactions_df_sample = transactions_df.iloc[:100000,:].copy()\n",
    "transactions_df_sample.shape"
   ]
  },
  {
   "cell_type": "code",
   "execution_count": 6,
   "id": "77fdc040",
   "metadata": {
    "execution": {
     "iopub.execute_input": "2022-06-29T13:31:07.987011Z",
     "iopub.status.busy": "2022-06-29T13:31:07.986028Z",
     "iopub.status.idle": "2022-06-29T13:31:09.345638Z",
     "shell.execute_reply": "2022-06-29T13:31:09.343875Z"
    },
    "papermill": {
     "duration": 1.373219,
     "end_time": "2022-06-29T13:31:09.348364",
     "exception": false,
     "start_time": "2022-06-29T13:31:07.975145",
     "status": "completed"
    },
    "tags": []
   },
   "outputs": [
    {
     "name": "stdout",
     "output_type": "stream",
     "text": [
      "(105542, 25)\n"
     ]
    },
    {
     "data": {
      "text/html": [
       "<div>\n",
       "<style scoped>\n",
       "    .dataframe tbody tr th:only-of-type {\n",
       "        vertical-align: middle;\n",
       "    }\n",
       "\n",
       "    .dataframe tbody tr th {\n",
       "        vertical-align: top;\n",
       "    }\n",
       "\n",
       "    .dataframe thead th {\n",
       "        text-align: right;\n",
       "    }\n",
       "</style>\n",
       "<table border=\"1\" class=\"dataframe\">\n",
       "  <thead>\n",
       "    <tr style=\"text-align: right;\">\n",
       "      <th></th>\n",
       "      <th>0</th>\n",
       "      <th>1</th>\n",
       "      <th>2</th>\n",
       "      <th>3</th>\n",
       "      <th>4</th>\n",
       "    </tr>\n",
       "  </thead>\n",
       "  <tbody>\n",
       "    <tr>\n",
       "      <th>article_id</th>\n",
       "      <td>108775015</td>\n",
       "      <td>108775044</td>\n",
       "      <td>108775051</td>\n",
       "      <td>110065001</td>\n",
       "      <td>110065002</td>\n",
       "    </tr>\n",
       "    <tr>\n",
       "      <th>product_code</th>\n",
       "      <td>108775</td>\n",
       "      <td>108775</td>\n",
       "      <td>108775</td>\n",
       "      <td>110065</td>\n",
       "      <td>110065</td>\n",
       "    </tr>\n",
       "    <tr>\n",
       "      <th>prod_name</th>\n",
       "      <td>Strap top</td>\n",
       "      <td>Strap top</td>\n",
       "      <td>Strap top (1)</td>\n",
       "      <td>OP T-shirt (Idro)</td>\n",
       "      <td>OP T-shirt (Idro)</td>\n",
       "    </tr>\n",
       "    <tr>\n",
       "      <th>product_type_no</th>\n",
       "      <td>253</td>\n",
       "      <td>253</td>\n",
       "      <td>253</td>\n",
       "      <td>306</td>\n",
       "      <td>306</td>\n",
       "    </tr>\n",
       "    <tr>\n",
       "      <th>product_type_name</th>\n",
       "      <td>Vest top</td>\n",
       "      <td>Vest top</td>\n",
       "      <td>Vest top</td>\n",
       "      <td>Bra</td>\n",
       "      <td>Bra</td>\n",
       "    </tr>\n",
       "    <tr>\n",
       "      <th>product_group_name</th>\n",
       "      <td>Garment Upper body</td>\n",
       "      <td>Garment Upper body</td>\n",
       "      <td>Garment Upper body</td>\n",
       "      <td>Underwear</td>\n",
       "      <td>Underwear</td>\n",
       "    </tr>\n",
       "    <tr>\n",
       "      <th>graphical_appearance_no</th>\n",
       "      <td>1010016</td>\n",
       "      <td>1010016</td>\n",
       "      <td>1010017</td>\n",
       "      <td>1010016</td>\n",
       "      <td>1010016</td>\n",
       "    </tr>\n",
       "    <tr>\n",
       "      <th>graphical_appearance_name</th>\n",
       "      <td>Solid</td>\n",
       "      <td>Solid</td>\n",
       "      <td>Stripe</td>\n",
       "      <td>Solid</td>\n",
       "      <td>Solid</td>\n",
       "    </tr>\n",
       "    <tr>\n",
       "      <th>colour_group_code</th>\n",
       "      <td>9</td>\n",
       "      <td>10</td>\n",
       "      <td>11</td>\n",
       "      <td>9</td>\n",
       "      <td>10</td>\n",
       "    </tr>\n",
       "    <tr>\n",
       "      <th>colour_group_name</th>\n",
       "      <td>Black</td>\n",
       "      <td>White</td>\n",
       "      <td>Off White</td>\n",
       "      <td>Black</td>\n",
       "      <td>White</td>\n",
       "    </tr>\n",
       "    <tr>\n",
       "      <th>perceived_colour_value_id</th>\n",
       "      <td>4</td>\n",
       "      <td>3</td>\n",
       "      <td>1</td>\n",
       "      <td>4</td>\n",
       "      <td>3</td>\n",
       "    </tr>\n",
       "    <tr>\n",
       "      <th>perceived_colour_value_name</th>\n",
       "      <td>Dark</td>\n",
       "      <td>Light</td>\n",
       "      <td>Dusty Light</td>\n",
       "      <td>Dark</td>\n",
       "      <td>Light</td>\n",
       "    </tr>\n",
       "    <tr>\n",
       "      <th>perceived_colour_master_id</th>\n",
       "      <td>5</td>\n",
       "      <td>9</td>\n",
       "      <td>9</td>\n",
       "      <td>5</td>\n",
       "      <td>9</td>\n",
       "    </tr>\n",
       "    <tr>\n",
       "      <th>perceived_colour_master_name</th>\n",
       "      <td>Black</td>\n",
       "      <td>White</td>\n",
       "      <td>White</td>\n",
       "      <td>Black</td>\n",
       "      <td>White</td>\n",
       "    </tr>\n",
       "    <tr>\n",
       "      <th>department_no</th>\n",
       "      <td>1676</td>\n",
       "      <td>1676</td>\n",
       "      <td>1676</td>\n",
       "      <td>1339</td>\n",
       "      <td>1339</td>\n",
       "    </tr>\n",
       "    <tr>\n",
       "      <th>department_name</th>\n",
       "      <td>Jersey Basic</td>\n",
       "      <td>Jersey Basic</td>\n",
       "      <td>Jersey Basic</td>\n",
       "      <td>Clean Lingerie</td>\n",
       "      <td>Clean Lingerie</td>\n",
       "    </tr>\n",
       "    <tr>\n",
       "      <th>index_code</th>\n",
       "      <td>A</td>\n",
       "      <td>A</td>\n",
       "      <td>A</td>\n",
       "      <td>B</td>\n",
       "      <td>B</td>\n",
       "    </tr>\n",
       "    <tr>\n",
       "      <th>index_name</th>\n",
       "      <td>Ladieswear</td>\n",
       "      <td>Ladieswear</td>\n",
       "      <td>Ladieswear</td>\n",
       "      <td>Lingeries/Tights</td>\n",
       "      <td>Lingeries/Tights</td>\n",
       "    </tr>\n",
       "    <tr>\n",
       "      <th>index_group_no</th>\n",
       "      <td>1</td>\n",
       "      <td>1</td>\n",
       "      <td>1</td>\n",
       "      <td>1</td>\n",
       "      <td>1</td>\n",
       "    </tr>\n",
       "    <tr>\n",
       "      <th>index_group_name</th>\n",
       "      <td>Ladieswear</td>\n",
       "      <td>Ladieswear</td>\n",
       "      <td>Ladieswear</td>\n",
       "      <td>Ladieswear</td>\n",
       "      <td>Ladieswear</td>\n",
       "    </tr>\n",
       "    <tr>\n",
       "      <th>section_no</th>\n",
       "      <td>16</td>\n",
       "      <td>16</td>\n",
       "      <td>16</td>\n",
       "      <td>61</td>\n",
       "      <td>61</td>\n",
       "    </tr>\n",
       "    <tr>\n",
       "      <th>section_name</th>\n",
       "      <td>Womens Everyday Basics</td>\n",
       "      <td>Womens Everyday Basics</td>\n",
       "      <td>Womens Everyday Basics</td>\n",
       "      <td>Womens Lingerie</td>\n",
       "      <td>Womens Lingerie</td>\n",
       "    </tr>\n",
       "    <tr>\n",
       "      <th>garment_group_no</th>\n",
       "      <td>1002</td>\n",
       "      <td>1002</td>\n",
       "      <td>1002</td>\n",
       "      <td>1017</td>\n",
       "      <td>1017</td>\n",
       "    </tr>\n",
       "    <tr>\n",
       "      <th>garment_group_name</th>\n",
       "      <td>Jersey Basic</td>\n",
       "      <td>Jersey Basic</td>\n",
       "      <td>Jersey Basic</td>\n",
       "      <td>Under-, Nightwear</td>\n",
       "      <td>Under-, Nightwear</td>\n",
       "    </tr>\n",
       "    <tr>\n",
       "      <th>detail_desc</th>\n",
       "      <td>Jersey top with narrow shoulder straps.</td>\n",
       "      <td>Jersey top with narrow shoulder straps.</td>\n",
       "      <td>Jersey top with narrow shoulder straps.</td>\n",
       "      <td>Microfibre T-shirt bra with underwired, moulde...</td>\n",
       "      <td>Microfibre T-shirt bra with underwired, moulde...</td>\n",
       "    </tr>\n",
       "  </tbody>\n",
       "</table>\n",
       "</div>"
      ],
      "text/plain": [
       "                                                                    0  \\\n",
       "article_id                                                  108775015   \n",
       "product_code                                                   108775   \n",
       "prod_name                                                   Strap top   \n",
       "product_type_no                                                   253   \n",
       "product_type_name                                            Vest top   \n",
       "product_group_name                                 Garment Upper body   \n",
       "graphical_appearance_no                                       1010016   \n",
       "graphical_appearance_name                                       Solid   \n",
       "colour_group_code                                                   9   \n",
       "colour_group_name                                               Black   \n",
       "perceived_colour_value_id                                           4   \n",
       "perceived_colour_value_name                                      Dark   \n",
       "perceived_colour_master_id                                          5   \n",
       "perceived_colour_master_name                                    Black   \n",
       "department_no                                                    1676   \n",
       "department_name                                          Jersey Basic   \n",
       "index_code                                                          A   \n",
       "index_name                                                 Ladieswear   \n",
       "index_group_no                                                      1   \n",
       "index_group_name                                           Ladieswear   \n",
       "section_no                                                         16   \n",
       "section_name                                   Womens Everyday Basics   \n",
       "garment_group_no                                                 1002   \n",
       "garment_group_name                                       Jersey Basic   \n",
       "detail_desc                   Jersey top with narrow shoulder straps.   \n",
       "\n",
       "                                                                    1  \\\n",
       "article_id                                                  108775044   \n",
       "product_code                                                   108775   \n",
       "prod_name                                                   Strap top   \n",
       "product_type_no                                                   253   \n",
       "product_type_name                                            Vest top   \n",
       "product_group_name                                 Garment Upper body   \n",
       "graphical_appearance_no                                       1010016   \n",
       "graphical_appearance_name                                       Solid   \n",
       "colour_group_code                                                  10   \n",
       "colour_group_name                                               White   \n",
       "perceived_colour_value_id                                           3   \n",
       "perceived_colour_value_name                                     Light   \n",
       "perceived_colour_master_id                                          9   \n",
       "perceived_colour_master_name                                    White   \n",
       "department_no                                                    1676   \n",
       "department_name                                          Jersey Basic   \n",
       "index_code                                                          A   \n",
       "index_name                                                 Ladieswear   \n",
       "index_group_no                                                      1   \n",
       "index_group_name                                           Ladieswear   \n",
       "section_no                                                         16   \n",
       "section_name                                   Womens Everyday Basics   \n",
       "garment_group_no                                                 1002   \n",
       "garment_group_name                                       Jersey Basic   \n",
       "detail_desc                   Jersey top with narrow shoulder straps.   \n",
       "\n",
       "                                                                    2  \\\n",
       "article_id                                                  108775051   \n",
       "product_code                                                   108775   \n",
       "prod_name                                               Strap top (1)   \n",
       "product_type_no                                                   253   \n",
       "product_type_name                                            Vest top   \n",
       "product_group_name                                 Garment Upper body   \n",
       "graphical_appearance_no                                       1010017   \n",
       "graphical_appearance_name                                      Stripe   \n",
       "colour_group_code                                                  11   \n",
       "colour_group_name                                           Off White   \n",
       "perceived_colour_value_id                                           1   \n",
       "perceived_colour_value_name                               Dusty Light   \n",
       "perceived_colour_master_id                                          9   \n",
       "perceived_colour_master_name                                    White   \n",
       "department_no                                                    1676   \n",
       "department_name                                          Jersey Basic   \n",
       "index_code                                                          A   \n",
       "index_name                                                 Ladieswear   \n",
       "index_group_no                                                      1   \n",
       "index_group_name                                           Ladieswear   \n",
       "section_no                                                         16   \n",
       "section_name                                   Womens Everyday Basics   \n",
       "garment_group_no                                                 1002   \n",
       "garment_group_name                                       Jersey Basic   \n",
       "detail_desc                   Jersey top with narrow shoulder straps.   \n",
       "\n",
       "                                                                              3  \\\n",
       "article_id                                                            110065001   \n",
       "product_code                                                             110065   \n",
       "prod_name                                                     OP T-shirt (Idro)   \n",
       "product_type_no                                                             306   \n",
       "product_type_name                                                           Bra   \n",
       "product_group_name                                                    Underwear   \n",
       "graphical_appearance_no                                                 1010016   \n",
       "graphical_appearance_name                                                 Solid   \n",
       "colour_group_code                                                             9   \n",
       "colour_group_name                                                         Black   \n",
       "perceived_colour_value_id                                                     4   \n",
       "perceived_colour_value_name                                                Dark   \n",
       "perceived_colour_master_id                                                    5   \n",
       "perceived_colour_master_name                                              Black   \n",
       "department_no                                                              1339   \n",
       "department_name                                                  Clean Lingerie   \n",
       "index_code                                                                    B   \n",
       "index_name                                                     Lingeries/Tights   \n",
       "index_group_no                                                                1   \n",
       "index_group_name                                                     Ladieswear   \n",
       "section_no                                                                   61   \n",
       "section_name                                                    Womens Lingerie   \n",
       "garment_group_no                                                           1017   \n",
       "garment_group_name                                            Under-, Nightwear   \n",
       "detail_desc                   Microfibre T-shirt bra with underwired, moulde...   \n",
       "\n",
       "                                                                              4  \n",
       "article_id                                                            110065002  \n",
       "product_code                                                             110065  \n",
       "prod_name                                                     OP T-shirt (Idro)  \n",
       "product_type_no                                                             306  \n",
       "product_type_name                                                           Bra  \n",
       "product_group_name                                                    Underwear  \n",
       "graphical_appearance_no                                                 1010016  \n",
       "graphical_appearance_name                                                 Solid  \n",
       "colour_group_code                                                            10  \n",
       "colour_group_name                                                         White  \n",
       "perceived_colour_value_id                                                     3  \n",
       "perceived_colour_value_name                                               Light  \n",
       "perceived_colour_master_id                                                    9  \n",
       "perceived_colour_master_name                                              White  \n",
       "department_no                                                              1339  \n",
       "department_name                                                  Clean Lingerie  \n",
       "index_code                                                                    B  \n",
       "index_name                                                     Lingeries/Tights  \n",
       "index_group_no                                                                1  \n",
       "index_group_name                                                     Ladieswear  \n",
       "section_no                                                                   61  \n",
       "section_name                                                    Womens Lingerie  \n",
       "garment_group_no                                                           1017  \n",
       "garment_group_name                                            Under-, Nightwear  \n",
       "detail_desc                   Microfibre T-shirt bra with underwired, moulde...  "
      ]
     },
     "execution_count": 6,
     "metadata": {},
     "output_type": "execute_result"
    }
   ],
   "source": [
    "articles_df = pd.read_csv(\"/kaggle/input/h-and-m-personalized-fashion-recommendations/articles.csv\")\n",
    "print(articles_df.shape)\n",
    "articles_df.head().T  "
   ]
  },
  {
   "cell_type": "code",
   "execution_count": 7,
   "id": "eaa5da7d",
   "metadata": {
    "execution": {
     "iopub.execute_input": "2022-06-29T13:31:09.369915Z",
     "iopub.status.busy": "2022-06-29T13:31:09.369403Z",
     "iopub.status.idle": "2022-06-29T13:31:09.564050Z",
     "shell.execute_reply": "2022-06-29T13:31:09.562636Z"
    },
    "papermill": {
     "duration": 0.208696,
     "end_time": "2022-06-29T13:31:09.566716",
     "exception": false,
     "start_time": "2022-06-29T13:31:09.358020",
     "status": "completed"
    },
    "tags": []
   },
   "outputs": [
    {
     "name": "stdout",
     "output_type": "stream",
     "text": [
      "article_id 105542\n",
      "product_code 47224\n",
      "prod_name 45875\n",
      "product_type_no 132\n",
      "product_type_name 131\n",
      "product_group_name 19\n",
      "graphical_appearance_no 30\n",
      "graphical_appearance_name 30\n",
      "colour_group_code 50\n",
      "colour_group_name 50\n",
      "perceived_colour_value_id 8\n",
      "perceived_colour_value_name 8\n",
      "perceived_colour_master_id 20\n",
      "perceived_colour_master_name 20\n",
      "department_no 299\n",
      "department_name 250\n",
      "index_code 10\n",
      "index_name 10\n",
      "index_group_no 5\n",
      "index_group_name 5\n",
      "section_no 57\n",
      "section_name 56\n",
      "garment_group_no 21\n",
      "garment_group_name 21\n",
      "detail_desc 43405\n"
     ]
    }
   ],
   "source": [
    "# Number of unique meanings of article features\n",
    "for col in articles_df.columns:\n",
    "    print(col, len(articles_df[col].unique()))\n",
    "    "
   ]
  },
  {
   "cell_type": "code",
   "execution_count": 8,
   "id": "4c258d98",
   "metadata": {
    "execution": {
     "iopub.execute_input": "2022-06-29T13:31:09.589455Z",
     "iopub.status.busy": "2022-06-29T13:31:09.588934Z",
     "iopub.status.idle": "2022-06-29T13:31:09.620309Z",
     "shell.execute_reply": "2022-06-29T13:31:09.618372Z"
    },
    "papermill": {
     "duration": 0.047494,
     "end_time": "2022-06-29T13:31:09.624249",
     "exception": false,
     "start_time": "2022-06-29T13:31:09.576755",
     "status": "completed"
    },
    "tags": []
   },
   "outputs": [
    {
     "name": "stdout",
     "output_type": "stream",
     "text": [
      "28317\n",
      "15581\n"
     ]
    }
   ],
   "source": [
    "# Number of unique meanings  of customers and articles\n",
    "print(len(transactions_df_sample.customer_id.unique()))\n",
    "print(len(transactions_df_sample.article_id.unique()))"
   ]
  },
  {
   "cell_type": "code",
   "execution_count": 9,
   "id": "4e7fc754",
   "metadata": {
    "execution": {
     "iopub.execute_input": "2022-06-29T13:31:09.647172Z",
     "iopub.status.busy": "2022-06-29T13:31:09.646348Z",
     "iopub.status.idle": "2022-06-29T13:31:09.815238Z",
     "shell.execute_reply": "2022-06-29T13:31:09.813675Z"
    },
    "papermill": {
     "duration": 0.183894,
     "end_time": "2022-06-29T13:31:09.818350",
     "exception": false,
     "start_time": "2022-06-29T13:31:09.634456",
     "status": "completed"
    },
    "tags": []
   },
   "outputs": [
    {
     "name": "stdout",
     "output_type": "stream",
     "text": [
      "3.531447540346788\n"
     ]
    },
    {
     "data": {
      "text/plain": [
       "1      8676\n",
       "2      6346\n",
       "3      4022\n",
       "4      2663\n",
       "5      1653\n",
       "6      1289\n",
       "7       821\n",
       "8       689\n",
       "9       470\n",
       "10      373\n",
       "11      282\n",
       "12      208\n",
       "13      157\n",
       "15      115\n",
       "14      103\n",
       "16       71\n",
       "19       52\n",
       "18       51\n",
       "17       49\n",
       "20       38\n",
       "21       27\n",
       "24       25\n",
       "22       19\n",
       "23       17\n",
       "25       14\n",
       "28       12\n",
       "26       12\n",
       "31        8\n",
       "27        8\n",
       "29        7\n",
       "37        6\n",
       "32        6\n",
       "36        4\n",
       "39        3\n",
       "40        3\n",
       "52        3\n",
       "30        3\n",
       "38        2\n",
       "43        2\n",
       "33        1\n",
       "103       1\n",
       "34        1\n",
       "35        1\n",
       "47        1\n",
       "45        1\n",
       "42        1\n",
       "72        1\n",
       "Name: article_id, dtype: int64"
      ]
     },
     "execution_count": 9,
     "metadata": {},
     "output_type": "execute_result"
    }
   ],
   "source": [
    "print(transactions_df_sample.groupby(\"customer_id\")[\"article_id\"].count().mean())\n",
    "transactions_df_sample.groupby(\"customer_id\")[\"article_id\"].count().value_counts()"
   ]
  },
  {
   "cell_type": "code",
   "execution_count": 10,
   "id": "843c1bf3",
   "metadata": {
    "execution": {
     "iopub.execute_input": "2022-06-29T13:31:09.844834Z",
     "iopub.status.busy": "2022-06-29T13:31:09.844291Z",
     "iopub.status.idle": "2022-06-29T13:31:09.907141Z",
     "shell.execute_reply": "2022-06-29T13:31:09.905438Z"
    },
    "papermill": {
     "duration": 0.081464,
     "end_time": "2022-06-29T13:31:09.910392",
     "exception": false,
     "start_time": "2022-06-29T13:31:09.828928",
     "status": "completed"
    },
    "tags": []
   },
   "outputs": [
    {
     "name": "stdout",
     "output_type": "stream",
     "text": [
      "114.56617647058823\n"
     ]
    },
    {
     "data": {
      "text/plain": [
       "1      5207\n",
       "2      2635\n",
       "3      1577\n",
       "4      1100\n",
       "5       800\n",
       "       ... \n",
       "142       1\n",
       "163       1\n",
       "167       1\n",
       "86        1\n",
       "797       1\n",
       "Name: customer_id, Length: 136, dtype: int64"
      ]
     },
     "execution_count": 10,
     "metadata": {},
     "output_type": "execute_result"
    }
   ],
   "source": [
    "print(transactions_df_sample.groupby(\"article_id\")[\"customer_id\"].count().value_counts().mean())\n",
    "transactions_df_sample.groupby(\"article_id\")[\"customer_id\"].count().value_counts()"
   ]
  },
  {
   "cell_type": "code",
   "execution_count": 11,
   "id": "cc882dc6",
   "metadata": {
    "execution": {
     "iopub.execute_input": "2022-06-29T13:31:09.934875Z",
     "iopub.status.busy": "2022-06-29T13:31:09.933521Z",
     "iopub.status.idle": "2022-06-29T13:31:10.212147Z",
     "shell.execute_reply": "2022-06-29T13:31:10.210719Z"
    },
    "papermill": {
     "duration": 0.294685,
     "end_time": "2022-06-29T13:31:10.215452",
     "exception": false,
     "start_time": "2022-06-29T13:31:09.920767",
     "status": "completed"
    },
    "tags": []
   },
   "outputs": [
    {
     "data": {
      "text/html": [
       "<div>\n",
       "<style scoped>\n",
       "    .dataframe tbody tr th:only-of-type {\n",
       "        vertical-align: middle;\n",
       "    }\n",
       "\n",
       "    .dataframe tbody tr th {\n",
       "        vertical-align: top;\n",
       "    }\n",
       "\n",
       "    .dataframe thead th {\n",
       "        text-align: right;\n",
       "    }\n",
       "</style>\n",
       "<table border=\"1\" class=\"dataframe\">\n",
       "  <thead>\n",
       "    <tr style=\"text-align: right;\">\n",
       "      <th></th>\n",
       "      <th>t_dat</th>\n",
       "      <th>customer_id</th>\n",
       "      <th>article_id</th>\n",
       "      <th>price</th>\n",
       "      <th>sales_channel_id</th>\n",
       "      <th>article_id_enc</th>\n",
       "      <th>customer_id_enc</th>\n",
       "    </tr>\n",
       "  </thead>\n",
       "  <tbody>\n",
       "    <tr>\n",
       "      <th>0</th>\n",
       "      <td>2018-09-20</td>\n",
       "      <td>000058a12d5b43e67d225668fa1f8d618c13dc232df0ca...</td>\n",
       "      <td>663713001</td>\n",
       "      <td>0.050831</td>\n",
       "      <td>2</td>\n",
       "      <td>13274.0</td>\n",
       "      <td>1.0</td>\n",
       "    </tr>\n",
       "    <tr>\n",
       "      <th>1</th>\n",
       "      <td>2018-09-20</td>\n",
       "      <td>000058a12d5b43e67d225668fa1f8d618c13dc232df0ca...</td>\n",
       "      <td>541518023</td>\n",
       "      <td>0.030492</td>\n",
       "      <td>2</td>\n",
       "      <td>3024.0</td>\n",
       "      <td>1.0</td>\n",
       "    </tr>\n",
       "    <tr>\n",
       "      <th>2</th>\n",
       "      <td>2018-09-20</td>\n",
       "      <td>00007d2de826758b65a93dd24ce629ed66842531df6699...</td>\n",
       "      <td>505221004</td>\n",
       "      <td>0.015237</td>\n",
       "      <td>2</td>\n",
       "      <td>2027.0</td>\n",
       "      <td>2.0</td>\n",
       "    </tr>\n",
       "    <tr>\n",
       "      <th>3</th>\n",
       "      <td>2018-09-20</td>\n",
       "      <td>00007d2de826758b65a93dd24ce629ed66842531df6699...</td>\n",
       "      <td>685687003</td>\n",
       "      <td>0.016932</td>\n",
       "      <td>2</td>\n",
       "      <td>14860.0</td>\n",
       "      <td>2.0</td>\n",
       "    </tr>\n",
       "    <tr>\n",
       "      <th>4</th>\n",
       "      <td>2018-09-20</td>\n",
       "      <td>00007d2de826758b65a93dd24ce629ed66842531df6699...</td>\n",
       "      <td>685687004</td>\n",
       "      <td>0.016932</td>\n",
       "      <td>2</td>\n",
       "      <td>14861.0</td>\n",
       "      <td>2.0</td>\n",
       "    </tr>\n",
       "  </tbody>\n",
       "</table>\n",
       "</div>"
      ],
      "text/plain": [
       "        t_dat                                        customer_id  article_id  \\\n",
       "0  2018-09-20  000058a12d5b43e67d225668fa1f8d618c13dc232df0ca...   663713001   \n",
       "1  2018-09-20  000058a12d5b43e67d225668fa1f8d618c13dc232df0ca...   541518023   \n",
       "2  2018-09-20  00007d2de826758b65a93dd24ce629ed66842531df6699...   505221004   \n",
       "3  2018-09-20  00007d2de826758b65a93dd24ce629ed66842531df6699...   685687003   \n",
       "4  2018-09-20  00007d2de826758b65a93dd24ce629ed66842531df6699...   685687004   \n",
       "\n",
       "      price  sales_channel_id  article_id_enc  customer_id_enc  \n",
       "0  0.050831                 2         13274.0              1.0  \n",
       "1  0.030492                 2          3024.0              1.0  \n",
       "2  0.015237                 2          2027.0              2.0  \n",
       "3  0.016932                 2         14860.0              2.0  \n",
       "4  0.016932                 2         14861.0              2.0  "
      ]
     },
     "execution_count": 11,
     "metadata": {},
     "output_type": "execute_result"
    }
   ],
   "source": [
    "from sklearn.preprocessing import OrdinalEncoder\n",
    "\n",
    "enc = OrdinalEncoder()\n",
    "transactions_df_sample[['article_id_enc', 'customer_id_enc']] = enc.fit_transform(transactions_df_sample[['article_id', 'customer_id']]) \n",
    "\n",
    "transactions_df_sample.head()"
   ]
  },
  {
   "cell_type": "code",
   "execution_count": 12,
   "id": "ea478b88",
   "metadata": {
    "execution": {
     "iopub.execute_input": "2022-06-29T13:31:10.239154Z",
     "iopub.status.busy": "2022-06-29T13:31:10.238671Z",
     "iopub.status.idle": "2022-06-29T13:31:10.247763Z",
     "shell.execute_reply": "2022-06-29T13:31:10.246523Z"
    },
    "papermill": {
     "duration": 0.024834,
     "end_time": "2022-06-29T13:31:10.251052",
     "exception": false,
     "start_time": "2022-06-29T13:31:10.226218",
     "status": "completed"
    },
    "tags": []
   },
   "outputs": [],
   "source": [
    "transactions_df_sample['article_id_enc'] = transactions_df_sample['article_id_enc'].astype(int)\n",
    "transactions_df_sample['customer_id_enc'] = transactions_df_sample['customer_id_enc'].astype(int)"
   ]
  },
  {
   "cell_type": "code",
   "execution_count": 13,
   "id": "ad6ecbcf",
   "metadata": {
    "execution": {
     "iopub.execute_input": "2022-06-29T13:31:10.275634Z",
     "iopub.status.busy": "2022-06-29T13:31:10.275112Z",
     "iopub.status.idle": "2022-06-29T13:31:10.358554Z",
     "shell.execute_reply": "2022-06-29T13:31:10.356823Z"
    },
    "papermill": {
     "duration": 0.099664,
     "end_time": "2022-06-29T13:31:10.361846",
     "exception": false,
     "start_time": "2022-06-29T13:31:10.262182",
     "status": "completed"
    },
    "tags": []
   },
   "outputs": [
    {
     "name": "stdout",
     "output_type": "stream",
     "text": [
      "<class 'pandas.core.frame.DataFrame'>\n",
      "Int64Index: 15581 entries, 0 to 15580\n",
      "Data columns (total 4 columns):\n",
      " #   Column            Non-Null Count  Dtype\n",
      "---  ------            --------------  -----\n",
      " 0   product_type_no   15581 non-null  int64\n",
      " 1   index_group_no    15581 non-null  int64\n",
      " 2   garment_group_no  15581 non-null  int64\n",
      " 3   article_id        15581 non-null  int64\n",
      "dtypes: int64(4)\n",
      "memory usage: 608.6 KB\n"
     ]
    }
   ],
   "source": [
    "item_features = articles_df[['product_type_no', 'index_group_no', 'garment_group_no', 'article_id']].copy()\n",
    "item_features = item_features.merge(transactions_df_sample[['article_id_enc','article_id']].drop_duplicates(), how=\"left\", on=\"article_id\")\n",
    "item_features.dropna(axis=0, inplace=True)\n",
    "item_features['article_id_enc'] = item_features['article_id_enc'].astype(int)\n",
    "item_features.set_index(\"article_id_enc\", inplace=True)\n",
    "item_features.info()"
   ]
  },
  {
   "cell_type": "code",
   "execution_count": 14,
   "id": "1fde6496",
   "metadata": {
    "execution": {
     "iopub.execute_input": "2022-06-29T13:31:10.386515Z",
     "iopub.status.busy": "2022-06-29T13:31:10.385696Z",
     "iopub.status.idle": "2022-06-29T13:31:10.415997Z",
     "shell.execute_reply": "2022-06-29T13:31:10.414381Z"
    },
    "papermill": {
     "duration": 0.046488,
     "end_time": "2022-06-29T13:31:10.419439",
     "exception": false,
     "start_time": "2022-06-29T13:31:10.372951",
     "status": "completed"
    },
    "tags": []
   },
   "outputs": [],
   "source": [
    "train_df, test_df = train_test_split(transactions_df_sample, test_size=0.1, random_state=42)"
   ]
  },
  {
   "cell_type": "markdown",
   "id": "5e0da4e1",
   "metadata": {
    "papermill": {
     "duration": 0.010144,
     "end_time": "2022-06-29T13:31:10.440999",
     "exception": false,
     "start_time": "2022-06-29T13:31:10.430855",
     "status": "completed"
    },
    "tags": []
   },
   "source": [
    "# Collaborative filtering "
   ]
  },
  {
   "cell_type": "code",
   "execution_count": 15,
   "id": "cd109baf",
   "metadata": {
    "execution": {
     "iopub.execute_input": "2022-06-29T13:31:10.465323Z",
     "iopub.status.busy": "2022-06-29T13:31:10.463801Z",
     "iopub.status.idle": "2022-06-29T13:31:10.489841Z",
     "shell.execute_reply": "2022-06-29T13:31:10.488702Z"
    },
    "papermill": {
     "duration": 0.041374,
     "end_time": "2022-06-29T13:31:10.492959",
     "exception": false,
     "start_time": "2022-06-29T13:31:10.451585",
     "status": "completed"
    },
    "tags": []
   },
   "outputs": [],
   "source": [
    "import scipy.sparse as sp\n",
    "from lightfm import LightFM\n",
    "from lightfm.evaluation import precision_at_k\n",
    "from lightfm.evaluation import auc_score\n",
    "\n",
    "from lightfm.cross_validation import random_train_test_split\n",
    "from lightfm.data import Dataset\n"
   ]
  },
  {
   "cell_type": "code",
   "execution_count": 16,
   "id": "69b14b6b",
   "metadata": {
    "execution": {
     "iopub.execute_input": "2022-06-29T13:31:10.516054Z",
     "iopub.status.busy": "2022-06-29T13:31:10.515521Z",
     "iopub.status.idle": "2022-06-29T13:31:10.529305Z",
     "shell.execute_reply": "2022-06-29T13:31:10.527925Z"
    },
    "papermill": {
     "duration": 0.028784,
     "end_time": "2022-06-29T13:31:10.532258",
     "exception": false,
     "start_time": "2022-06-29T13:31:10.503474",
     "status": "completed"
    },
    "tags": []
   },
   "outputs": [
    {
     "data": {
      "text/plain": [
       "(28317, 15581)"
      ]
     },
     "execution_count": 16,
     "metadata": {},
     "output_type": "execute_result"
    }
   ],
   "source": [
    "# Convert data to sparse matrix\n",
    "# (np.float32 coo_matrix of shape [n_users, n_items]) – the matrix containing user-item interactions. \n",
    "# Will be converted to numpy.float32 dtype if it is not of that type.\n",
    "\n",
    "data_sp = sp.coo_matrix((np.ones(train_df.shape[0]), (train_df.customer_id_enc.values, train_df.article_id_enc.values ) ))\n",
    "data_sp.shape"
   ]
  },
  {
   "cell_type": "code",
   "execution_count": 17,
   "id": "e1701d8e",
   "metadata": {
    "execution": {
     "iopub.execute_input": "2022-06-29T13:31:10.560032Z",
     "iopub.status.busy": "2022-06-29T13:31:10.558951Z",
     "iopub.status.idle": "2022-06-29T13:31:10.596721Z",
     "shell.execute_reply": "2022-06-29T13:31:10.595130Z"
    },
    "papermill": {
     "duration": 0.054633,
     "end_time": "2022-06-29T13:31:10.599827",
     "exception": false,
     "start_time": "2022-06-29T13:31:10.545194",
     "status": "completed"
    },
    "tags": []
   },
   "outputs": [
    {
     "data": {
      "text/plain": [
       "(15581, 96)"
      ]
     },
     "execution_count": 17,
     "metadata": {},
     "output_type": "execute_result"
    }
   ],
   "source": [
    "# build item features\n",
    "# item_features (np.float32 csr_matrix of shape [n_items, n_item_features], optional) – Each row contains that item’s weights over features.\n",
    "item_features_product_type_no = pd.get_dummies(item_features[\"product_type_no\"])\n",
    "item_features_product_type_no.shape\n",
    "\n",
    "item_features_csr = sp.csr_matrix(item_features_product_type_no.values)\n",
    "item_features_csr.shape"
   ]
  },
  {
   "cell_type": "code",
   "execution_count": 18,
   "id": "07efe46a",
   "metadata": {
    "execution": {
     "iopub.execute_input": "2022-06-29T13:31:10.625167Z",
     "iopub.status.busy": "2022-06-29T13:31:10.623623Z",
     "iopub.status.idle": "2022-06-29T13:31:10.637274Z",
     "shell.execute_reply": "2022-06-29T13:31:10.635731Z"
    },
    "papermill": {
     "duration": 0.029373,
     "end_time": "2022-06-29T13:31:10.640197",
     "exception": false,
     "start_time": "2022-06-29T13:31:10.610824",
     "status": "completed"
    },
    "tags": []
   },
   "outputs": [],
   "source": [
    "# Make split\n",
    "train_sp, valid_sp = random_train_test_split(data_sp, test_percentage=0.2, random_state=42)"
   ]
  },
  {
   "cell_type": "code",
   "execution_count": 19,
   "id": "b43ed4b4",
   "metadata": {
    "execution": {
     "iopub.execute_input": "2022-06-29T13:31:10.665153Z",
     "iopub.status.busy": "2022-06-29T13:31:10.663479Z",
     "iopub.status.idle": "2022-06-29T13:31:11.777945Z",
     "shell.execute_reply": "2022-06-29T13:31:11.776439Z"
    },
    "papermill": {
     "duration": 1.129992,
     "end_time": "2022-06-29T13:31:11.781078",
     "exception": false,
     "start_time": "2022-06-29T13:31:10.651086",
     "status": "completed"
    },
    "tags": []
   },
   "outputs": [
    {
     "data": {
      "text/plain": [
       "<lightfm.lightfm.LightFM at 0x7f1e65fc1d10>"
      ]
     },
     "execution_count": 19,
     "metadata": {},
     "output_type": "execute_result"
    }
   ],
   "source": [
    "# Define the model\n",
    "\n",
    "model = LightFM(no_components=30, loss='warp', random_state=42)\n",
    "model.fit(train_sp, epochs=10, num_threads=2)"
   ]
  },
  {
   "cell_type": "code",
   "execution_count": 20,
   "id": "6ecc9932",
   "metadata": {
    "execution": {
     "iopub.execute_input": "2022-06-29T13:31:11.807005Z",
     "iopub.status.busy": "2022-06-29T13:31:11.806312Z",
     "iopub.status.idle": "2022-06-29T13:31:38.572411Z",
     "shell.execute_reply": "2022-06-29T13:31:38.570986Z"
    },
    "papermill": {
     "duration": 26.782795,
     "end_time": "2022-06-29T13:31:38.575871",
     "exception": false,
     "start_time": "2022-06-29T13:31:11.793076",
     "status": "completed"
    },
    "tags": []
   },
   "outputs": [
    {
     "name": "stdout",
     "output_type": "stream",
     "text": [
      "Train AUC: 0.99\n",
      "Valid AUC: 0.78\n"
     ]
    }
   ],
   "source": [
    "# Evaluate the model\n",
    "print(\"Train AUC: %.2f\" % auc_score(model, train_sp).mean())\n",
    "print(\"Valid AUC: %.2f\" % auc_score(model, valid_sp).mean())\n"
   ]
  },
  {
   "cell_type": "code",
   "execution_count": 21,
   "id": "ac8a3bde",
   "metadata": {
    "execution": {
     "iopub.execute_input": "2022-06-29T13:31:38.614929Z",
     "iopub.status.busy": "2022-06-29T13:31:38.614391Z",
     "iopub.status.idle": "2022-06-29T13:31:38.653155Z",
     "shell.execute_reply": "2022-06-29T13:31:38.651744Z"
    },
    "papermill": {
     "duration": 0.061926,
     "end_time": "2022-06-29T13:31:38.656254",
     "exception": false,
     "start_time": "2022-06-29T13:31:38.594328",
     "status": "completed"
    },
    "tags": []
   },
   "outputs": [
    {
     "data": {
      "text/plain": [
       "array([-0.00773799,  0.5967291 , -0.8796036 , ..., -0.3862144 ,\n",
       "        1.6393838 ,  1.1997406 ], dtype=float32)"
      ]
     },
     "execution_count": 21,
     "metadata": {},
     "output_type": "execute_result"
    }
   ],
   "source": [
    "model.predict(train_df.customer_id_enc.values, train_df.article_id_enc.values)"
   ]
  },
  {
   "cell_type": "code",
   "execution_count": 22,
   "id": "d4e8713e",
   "metadata": {
    "execution": {
     "iopub.execute_input": "2022-06-29T13:31:38.683826Z",
     "iopub.status.busy": "2022-06-29T13:31:38.682454Z",
     "iopub.status.idle": "2022-06-29T13:31:44.171307Z",
     "shell.execute_reply": "2022-06-29T13:31:44.170265Z"
    },
    "papermill": {
     "duration": 5.505226,
     "end_time": "2022-06-29T13:31:44.174164",
     "exception": false,
     "start_time": "2022-06-29T13:31:38.668938",
     "status": "completed"
    },
    "tags": []
   },
   "outputs": [
    {
     "data": {
      "text/plain": [
       "<lightfm.lightfm.LightFM at 0x7f1e65fbd6d0>"
      ]
     },
     "execution_count": 22,
     "metadata": {},
     "output_type": "execute_result"
    }
   ],
   "source": [
    "# Model with item features\n",
    "model2 = LightFM(no_components=150, loss='warp', random_state=42)\n",
    "model2.fit(train_sp, item_features=item_features_csr, epochs=20, num_threads=2)"
   ]
  },
  {
   "cell_type": "code",
   "execution_count": 23,
   "id": "5770d5dc",
   "metadata": {
    "execution": {
     "iopub.execute_input": "2022-06-29T13:31:44.199523Z",
     "iopub.status.busy": "2022-06-29T13:31:44.198772Z",
     "iopub.status.idle": "2022-06-29T13:32:38.653887Z",
     "shell.execute_reply": "2022-06-29T13:32:38.652112Z"
    },
    "papermill": {
     "duration": 54.470917,
     "end_time": "2022-06-29T13:32:38.656679",
     "exception": false,
     "start_time": "2022-06-29T13:31:44.185762",
     "status": "completed"
    },
    "tags": []
   },
   "outputs": [
    {
     "name": "stdout",
     "output_type": "stream",
     "text": [
      "Train AUC: 0.92\n",
      "Valid AUC: 0.69\n"
     ]
    }
   ],
   "source": [
    "# Evaluate the model\n",
    "print(\"Train AUC: %.2f\" % auc_score(model2, train_sp, item_features=item_features_csr).mean())\n",
    "print(\"Valid AUC: %.2f\" % auc_score(model2, valid_sp, item_features=item_features_csr).mean())"
   ]
  },
  {
   "cell_type": "code",
   "execution_count": 24,
   "id": "b1de3f02",
   "metadata": {
    "execution": {
     "iopub.execute_input": "2022-06-29T13:32:38.683884Z",
     "iopub.status.busy": "2022-06-29T13:32:38.683017Z",
     "iopub.status.idle": "2022-06-29T13:32:38.726287Z",
     "shell.execute_reply": "2022-06-29T13:32:38.725159Z"
    },
    "papermill": {
     "duration": 0.060438,
     "end_time": "2022-06-29T13:32:38.729236",
     "exception": false,
     "start_time": "2022-06-29T13:32:38.668798",
     "status": "completed"
    },
    "tags": []
   },
   "outputs": [],
   "source": [
    "# Dictinary for index converting\n",
    "article_dict = dict(zip(train_df[\"article_id_enc\"].values, train_df[\"article_id\"].values))\n"
   ]
  },
  {
   "cell_type": "code",
   "execution_count": 25,
   "id": "300c1566",
   "metadata": {
    "execution": {
     "iopub.execute_input": "2022-06-29T13:32:38.755885Z",
     "iopub.status.busy": "2022-06-29T13:32:38.755024Z",
     "iopub.status.idle": "2022-06-29T13:32:38.879129Z",
     "shell.execute_reply": "2022-06-29T13:32:38.877761Z"
    },
    "papermill": {
     "duration": 0.141736,
     "end_time": "2022-06-29T13:32:38.883294",
     "exception": false,
     "start_time": "2022-06-29T13:32:38.741558",
     "status": "completed"
    },
    "tags": []
   },
   "outputs": [
    {
     "name": "stdout",
     "output_type": "stream",
     "text": [
      "\n",
      "************************************************************\n",
      "  Recomendations for user_id = 4\n",
      "************************************************************\n",
      "\n",
      "     Already bought:\n",
      " 625480003  Flora                     Dress                Ladieswear           Womens Everyday Collection              \n",
      " 658183002  BOOGIE hooded tee         T-shirt              Sport                Ladies H&M Sport                        \n",
      "\n",
      "     Recommended:\n",
      " 658183001  BOOGIE hooded tee         T-shirt              Sport                Ladies H&M Sport                         score=1.79\n",
      " 671505002  EDC ROMAN BLOUSE          Blouse               Ladieswear           Womens Everyday Collection               score=1.36\n",
      " 685687004  W YODA KNIT OL OFFER      Sweater              Ladieswear           Womens Everyday Collection               score=1.35\n",
      " 688873012  Gyda!                     Blouse               Ladieswear           Womens Tailoring                         score=1.33\n",
      " 615021021  Luisa tee                 T-shirt              Ladieswear           Womens Everyday Collection               score=1.23\n",
      "\n",
      "************************************************************\n",
      "  Recomendations for user_id = 25\n",
      "************************************************************\n",
      "\n",
      "     Already bought:\n",
      " 679526002  BUDDY ls 2p aop           T-shirt              Baby/Children        Girls Underwear & Basics                \n",
      " 552370002  SKINNY PRICE              Trousers             Baby/Children        Young Girl                              \n",
      " 627572008  Kompis L/S fancy          Sweater              Baby/Children        Girls Underwear & Basics                \n",
      " 502186012  Tuck cropped sweater      Sweater              Ladieswear           Womens Casual                           \n",
      " 660367001  DESIREE half zip          Hoodie               Sport                Ladies H&M Sport                        \n",
      " 626052009  BIM shirt                 Blouse               Baby/Children        Young Girl                              \n",
      " 564418001  Lima denim shirt          Shirt                Divided              Ladies Denim                            \n",
      " 555366001  DUNGAREE L/L BASIC SLIM   Dungarees            Baby/Children        Young Girl                              \n",
      " 634019001  DUNGAREE LL SLIM ANNA     Dungarees            Baby/Children        Young Girl                              \n",
      " 625819005  J shirt                   Shirt                Ladieswear           Womens Casual                           \n",
      " 562245018  Luna skinny RW            Trousers             Ladieswear           Womens Everyday Collection              \n",
      " 610776001  Tilly (1)                 T-shirt              Ladieswear           Womens Everyday Basics                  \n",
      " 504154022  Lady Di                   Sweater              Ladieswear           Womens Everyday Collection              \n",
      " 626263008  GILDA LEGGINGS            Leggings/Tights      Baby/Children        Young Girl                              \n",
      " 626263008  GILDA LEGGINGS            Leggings/Tights      Baby/Children        Young Girl                              \n",
      " 558981004  Gilda                     Leggings/Tights      Baby/Children        Young Girl                              \n",
      " 565379023  Moa tank                  Vest top             Ladieswear           Womens Everyday Basics                  \n",
      " 626263002  GILDA LEGGINGS            Leggings/Tights      Baby/Children        Young Girl                              \n",
      " 634727002  Fraiser Padded Jkt        Jacket               Ladieswear           Womens Jackets                          \n",
      " 562245057  Luna skinny RW            Trousers             Ladieswear           Womens Everyday Collection              \n",
      " 627569002  Kompis L/S                T-shirt              Baby/Children        Girls Underwear & Basics                \n",
      " 630116001  SUPREME TIGHTS            Leggings/Tights      Sport                Ladies H&M Sport                        \n",
      " 516000002  Agnes LS R-neck           T-shirt              Ladieswear           Womens Tailoring                        \n",
      " 641009006  Sam price shirt           Shirt                Baby/Children        Young Girl                              \n",
      " 576773016  Fireball Chino            Trousers             Ladieswear           Womens Casual                           \n",
      " 626415003  Lexie Shirt               Shirt                Baby/Children        Young Girl                              \n",
      " 565379002  Moa tank                  Vest top             Ladieswear           Womens Everyday Basics                  \n",
      " 565379002  Moa tank                  Vest top             Ladieswear           Womens Everyday Basics                  \n",
      " 625321005  SPEEDY tee conscious      T-shirt              Sport                Ladies H&M Sport                        \n",
      " 624062005  DIXIE                     Sweater              Baby/Children        Young Girl                              \n",
      " 624062005  DIXIE                     Sweater              Baby/Children        Young Girl                              \n",
      " 502186014  Tuck cropped sweater      Sweater              Ladieswear           Womens Casual                           \n",
      "\n",
      "     Recommended:\n",
      " 565379001  Moa tank                  Vest top             Ladieswear           Womens Everyday Basics                   score=2.25\n",
      " 685683001  STACEY KNIT               Sweater              Ladieswear           Womens Everyday Collection               score=1.46\n",
      " 612935007  SPEED Karma Dress         Dress                Ladieswear           Womens Tailoring                         score=1.45\n",
      " 539723005  Jade Denim TRS            Trousers             Divided              Divided Collection                       score=1.25\n",
      " 565379004  Moa tank                  Vest top             Ladieswear           Womens Everyday Basics                   score=1.23\n",
      "\n",
      "************************************************************\n",
      "  Recomendations for user_id = 45\n",
      "************************************************************\n",
      "\n",
      "     Already bought:\n",
      " 687424002  Ocean                     Dress                Ladieswear           Womens Everyday Collection              \n",
      " 687424002  Ocean                     Dress                Ladieswear           Womens Everyday Collection              \n",
      " 577399001  Violet tee dress          Dress                Ladieswear           Womens Casual                           \n",
      " 577399001  Violet tee dress          Dress                Ladieswear           Womens Casual                           \n",
      " 656213001  Emma Body                 Underwear body       Ladieswear           Womens Lingerie                         \n",
      " 656213001  Emma Body                 Underwear body       Ladieswear           Womens Lingerie                         \n",
      "\n",
      "     Recommended:\n",
      " 687424003  Ocean                     Dress                Ladieswear           Womens Everyday Collection               score=1.67\n",
      " 685687004  W YODA KNIT OL OFFER      Sweater              Ladieswear           Womens Everyday Collection               score=1.58\n",
      " 685687001  W YODA KNIT OL OFFER      Sweater              Ladieswear           Womens Everyday Collection               score=1.37\n",
      " 692454002  EDC LAURA LACE TOP        Top                  Ladieswear           Womens Everyday Collection               score=1.31\n",
      " 656719005  Serpente HW slim trouser  Trousers             Ladieswear           Womens Everyday Collection               score=1.18\n",
      "\n",
      "************************************************************\n",
      "  Recomendations for user_id = 444\n",
      "************************************************************\n",
      "\n",
      "     Already bought:\n",
      " 634015009  FOG tanktop               Vest top             Sport                Ladies H&M Sport                        \n",
      " 564786020  KARIN sports bra          Bra                  Sport                Ladies H&M Sport                        \n",
      " 640021005  Perrie Trash HW Denim TRS Trousers             Divided              Divided Collection                      \n",
      " 567993015  IZZY loose tee (1)        T-shirt              Sport                Ladies H&M Sport                        \n",
      " 622618004  POWER tights              Leggings/Tights      Sport                Ladies H&M Sport                        \n",
      " 560270010  NORWAY fleece jacket (1)  Hoodie               Sport                Ladies H&M Sport                        \n",
      "\n",
      "     Recommended:\n",
      " 683662005  Doris L/S                 Top                  Divided              Divided Basics                           score=1.19\n",
      " 671513003  Haven highwaist           Underwear bottom     Ladieswear           Womens Lingerie                          score=1.1\n",
      " 636351001  MIST muscle tank          Vest top             Sport                Ladies H&M Sport                         score=0.991\n",
      " 662948003  Osman                     Sweater              Ladieswear           Womens Everyday Collection               score=0.935\n",
      " 653733001  DIV Sirpa sweater         Sweater              Divided              Divided Projects                         score=0.922\n",
      "\n",
      "************************************************************\n",
      "  Recomendations for user_id = 777\n",
      "************************************************************\n",
      "\n",
      "     Already bought:\n",
      " 562245018  Luna skinny RW            Trousers             Ladieswear           Womens Everyday Collection              \n",
      " 562245018  Luna skinny RW            Trousers             Ladieswear           Womens Everyday Collection              \n",
      " 562245059  Luna skinny RW            Trousers             Ladieswear           Womens Everyday Collection              \n",
      "\n",
      "     Recommended:\n",
      " 685687004  W YODA KNIT OL OFFER      Sweater              Ladieswear           Womens Everyday Collection               score=1.96\n",
      " 562245001  Luna skinny RW            Trousers             Ladieswear           Womens Everyday Collection               score=1.7\n",
      " 673677002  Henry polo. (1)           Sweater              Ladieswear           Womens Tailoring                         score=1.69\n",
      " 685687003  W YODA KNIT OL OFFER      Sweater              Ladieswear           Womens Everyday Collection               score=1.57\n",
      " 671505002  EDC ROMAN BLOUSE          Blouse               Ladieswear           Womens Everyday Collection               score=1.56\n",
      "\n",
      "************************************************************\n",
      "  Recomendations for user_id = 2784\n",
      "************************************************************\n",
      "\n",
      "     Already bought:\n",
      " 586011008  MAUI LACE LS              T-shirt              Ladieswear           Womens Casual                           \n",
      " 628930008  SOPHIA BLOUSE             Blouse               Divided              Divided Collection                      \n",
      "\n",
      "     Recommended:\n",
      " 685687004  W YODA KNIT OL OFFER      Sweater              Ladieswear           Womens Everyday Collection               score=2.09\n",
      " 685687001  W YODA KNIT OL OFFER      Sweater              Ladieswear           Womens Everyday Collection               score=2.02\n",
      " 685687003  W YODA KNIT OL OFFER      Sweater              Ladieswear           Womens Everyday Collection               score=1.54\n",
      " 667491011  Bloom                     Shirt                Ladieswear           Womens Everyday Collection               score=1.52\n",
      " 685687002  W YODA KNIT OL OFFER      Sweater              Ladieswear           Womens Everyday Collection               score=1.42\n",
      "\n",
      "************************************************************\n",
      "  Recomendations for user_id = 4525\n",
      "************************************************************\n",
      "\n",
      "     Already bought:\n",
      " 539723006  Jade Denim TRS            Trousers             Divided              Divided Collection                      \n",
      " 672598001  Nero                      T-shirt              Ladieswear           Womens Everyday Basics                  \n",
      " 516859002  James basic hip belt (1)  Belt                 Ladieswear           Womens Big accessories                  \n",
      " 615141002  Juanos                    Top                  Ladieswear           Womens Everyday Collection              \n",
      " 672890003  Frida Printed Sweater     Sweater              Divided              Divided Collection                      \n",
      " 705094002  Lorna                     Sweater              Ladieswear           Womens Everyday Collection              \n",
      " 558986006  Mary LS                   Sweater              Divided              Divided Collection                      \n",
      "\n",
      "     Recommended:\n",
      " 573085001  Madison skinny HW         Trousers             Ladieswear           Womens Everyday Collection               score=1.64\n",
      " 589222003  Skinny H.W Air            Trousers             Divided              Ladies Denim                             score=1.64\n",
      " 573716012  Kanta slacks RW           Trousers             Ladieswear           Womens Everyday Collection               score=1.53\n",
      " 685687004  W YODA KNIT OL OFFER      Sweater              Ladieswear           Womens Everyday Collection               score=1.42\n",
      " 562245001  Luna skinny RW            Trousers             Ladieswear           Womens Everyday Collection               score=1.4\n",
      "\n",
      "************************************************************\n",
      "  Recomendations for user_id = 9876\n",
      "************************************************************\n",
      "\n",
      "     Already bought:\n",
      " 677218001  J Ferrara                 Dress                Ladieswear           Womens Everyday Collection              \n",
      " 579541035  Calista (1)               Cardigan             Ladieswear           Womens Tailoring                        \n",
      " 666328001  Sugar                     Blouse               Ladieswear           Womens Everyday Collection              \n",
      "\n",
      "     Recommended:\n",
      " 680715001  Tempo Coat                Jacket               Ladieswear           Womens Jackets                           score=1.5\n",
      " 554772003  Bob V-neck                T-shirt              Ladieswear           Womens Everyday Basics                   score=1.49\n",
      " 671553002  Camille cardigan          Cardigan             Ladieswear           Womens Everyday Basics                   score=1.35\n",
      " 573937001  ED Madison Skinny HW      Trousers             Ladieswear           H&M+                                     score=1.33\n",
      " 683662005  Doris L/S                 Top                  Divided              Divided Basics                           score=1.21\n",
      "\n",
      "************************************************************\n",
      "  Recomendations for user_id = 5443\n",
      "************************************************************\n",
      "\n",
      "     Already bought:\n",
      " 645065001  BRIDGET Sweater           Sweater              Divided              Divided Collection                      \n",
      " 700828001  Sienna                    Sweater              Ladieswear           Womens Everyday Collection              \n",
      " 541519026  Rae Lace Thong (Magnolia 3p Underwear bottom     Ladieswear           Womens Lingerie                         \n",
      " 510018002  Ylva lace                 Vest top             Ladieswear           Womens Everyday Collection              \n",
      " 637549011  Bama                      Sweater              Ladieswear           Womens Everyday Collection              \n",
      " 664133003  Ashley Denim TRS          Trousers             Divided              Divided Collection                      \n",
      " 667379002  Gandi                     Sweater              Ladieswear           Womens Everyday Basics                  \n",
      " 399201023  Shaping Skinny H.W        Trousers             Divided              Ladies Denim                            \n",
      " 656345001  Atlanta Bralette Valencia Bra                  Ladieswear           Womens Lingerie                         \n",
      " 624723002  CSP Venus LS              Sweater              Divided              Divided Collection                      \n",
      "\n",
      "     Recommended:\n",
      " 685687001  W YODA KNIT OL OFFER      Sweater              Ladieswear           Womens Everyday Collection               score=1.81\n",
      " 685687004  W YODA KNIT OL OFFER      Sweater              Ladieswear           Womens Everyday Collection               score=1.77\n",
      " 502186011  Tuck cropped sweater      Sweater              Ladieswear           Womens Casual                            score=1.6\n",
      " 662888001  Miranda                   Sweater              Ladieswear           Womens Everyday Collection               score=1.41\n",
      " 685687003  W YODA KNIT OL OFFER      Sweater              Ladieswear           Womens Everyday Collection               score=1.39\n"
     ]
    }
   ],
   "source": [
    "def sample_recommendation(model, transactions_df, articles_df, article_dict, num, user_ids):\n",
    "\n",
    "    items = transactions_df.article_id_enc.unique()\n",
    "    #print(items[:10])\n",
    "\n",
    "    for user_id in user_ids:\n",
    "        print()\n",
    "        print(\"*\" * 60)\n",
    "        print(\"  Recomendations for user_id =\", user_id)\n",
    "        print(\"*\" * 60)\n",
    "        \n",
    "        print(\"\\n     Already bought:\")\n",
    "        rtg = transactions_df[transactions_df[\"customer_id_enc\"] == user_id][\"article_id\"].values\n",
    "        \n",
    "        #print(\"{:10}  {:25} {:20} {:20} {:40}\".format(\"id\", \"prod name\", \"product type name\",\"index group name\", \"section name\"))\n",
    "        #print()\n",
    "\n",
    "        for item in rtg:           \n",
    "            print(\"{:10}  {:25} {:20} {:20} {:40}\".format(item, articles_df.loc[item, \"prod_name\"], articles_df.loc[item, \"product_type_name\"],\n",
    "                                                          articles_df.loc[item, \"index_group_name\"],\n",
    "                                                          articles_df.loc[item, \"section_name\"]\n",
    "                                                          ))\n",
    "\n",
    "        # make prediction \n",
    "        scores = model.predict(np.ones(len(items)) * user_id, items)\n",
    "        \n",
    "        # n-top score \n",
    "        num_of_cand = 50\n",
    "        argsort_scores_idx = np.argsort(scores)[-num_of_cand:]\n",
    "        argsort_scores_idx = np.flip(argsort_scores_idx)\n",
    "\n",
    "        \n",
    "        \n",
    "        print(\"\\n     Recommended:\")\n",
    "        k = 1\n",
    "        for ind in argsort_scores_idx:\n",
    "            #print(i, items[i],article_dict[items[i]])\n",
    "            ii = article_dict[items[ind]]\n",
    "            \n",
    "            # check if already bought\n",
    "            if ii in rtg:\n",
    "                continue\n",
    "            else: k+=1\n",
    "            \n",
    "            print(\"{:10}  {:25} {:20} {:20} {:40} score={:.3}\".format(ii, articles_df.loc[ii, \"prod_name\"], \n",
    "                                                          articles_df.loc[ii, \"product_type_name\"],\n",
    "                                                          articles_df.loc[ii, \"index_group_name\"],\n",
    "                                                          articles_df.loc[ii, \"section_name\"],\n",
    "                                                          scores[ind]     \n",
    "                                                          ))\n",
    "            if k > num: break\n",
    "        #print()\n",
    "        \n",
    "sample_recommendation(model, transactions_df_sample, articles_df.set_index(\"article_id\"), article_dict, 5, [4, 25, 45, 444, 777, 2784, 4525, 9876, 5443])"
   ]
  }
 ],
 "metadata": {
  "kernelspec": {
   "display_name": "Python 3",
   "language": "python",
   "name": "python3"
  },
  "language_info": {
   "codemirror_mode": {
    "name": "ipython",
    "version": 3
   },
   "file_extension": ".py",
   "mimetype": "text/x-python",
   "name": "python",
   "nbconvert_exporter": "python",
   "pygments_lexer": "ipython3",
   "version": "3.7.12"
  },
  "papermill": {
   "default_parameters": {},
   "duration": 182.039203,
   "end_time": "2022-06-29T13:32:40.828089",
   "environment_variables": {},
   "exception": null,
   "input_path": "__notebook__.ipynb",
   "output_path": "__notebook__.ipynb",
   "parameters": {},
   "start_time": "2022-06-29T13:29:38.788886",
   "version": "2.3.4"
  }
 },
 "nbformat": 4,
 "nbformat_minor": 5
}
